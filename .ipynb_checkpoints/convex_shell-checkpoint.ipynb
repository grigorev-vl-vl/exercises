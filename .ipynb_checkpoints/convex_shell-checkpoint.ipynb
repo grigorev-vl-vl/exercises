{
 "cells": [
  {
   "cell_type": "code",
   "execution_count": 1,
   "metadata": {
    "id": "j7RjbNA4yhjQ"
   },
   "outputs": [],
   "source": [
    "import pandas as pd\n",
    "import numpy as np\n",
    "import random\n",
    "import plotly.express as px\n",
    "import plotly.graph_objects as go\n",
    "\n",
    "# TODO add more distributions\n",
    "# TODO estimate f(iteration) = len(_points)(iteration)\n",
    "# TODO optimise algorithm\n",
    "# TODO time check\n",
    "# TODO exception: one point left, what to do"
   ]
  },
  {
   "cell_type": "code",
   "execution_count": 189,
   "metadata": {
    "id": "_uDvyaUOxk89"
   },
   "outputs": [],
   "source": [
    "class Box(object):\n",
    "  \"\"\"Box with dots, the problem is to find their minimal convex shell\"\"\"\n",
    "  def __init__(self, dimension=2, size=1, distribution='Uniform', points_number=100):\n",
    "    self.dimension = dimension\n",
    "    self.size = size\n",
    "    self.distribution = distribution\n",
    "    self.points_number = points_number\n",
    "    self.convex_shell = []\n",
    "    \n",
    "    if distribution=='Uniform':\n",
    "        points_array = np.array([\n",
    "                      [random.random() for x_iterator in range(self.points_number)], \n",
    "                      [random.random() for y_iterator in range(self.points_number)]\n",
    "                      ]).reshape((self.points_number,2))\n",
    "    elif distribution=='Gauss':\n",
    "        points_array = np.array([\n",
    "                      [random.gauss(mu=1, sigma=1) for x_iterator in range(self.points_number)], \n",
    "                      [random.gauss(mu=1, sigma=1) for y_iterator in range(self.points_number)]\n",
    "                      ]).reshape((self.points_number,2))\n",
    "    self._points = pd.DataFrame(data=points_array, columns=(\"x\", \"y\"))\n",
    "    self.picture_data = px.scatter(self._points, x=\"x\", y=\"y\").data\n",
    "                   \n",
    "\n",
    "  def find_convex(self):\n",
    "    def metric(vectors_array, vector):\n",
    "        \"\"\"Array of normalized dot products of each vec1 in vectors_array with single vector\"\"\"\n",
    "        nvector = vector / np.linalg.norm(vector)\n",
    "        nvectors_array = vectors_array / np.linalg.norm(vectors_array, axis=0)\n",
    "        nvectors_array = np.column_stack((nvectors_array[0], nvectors_array[1]))\n",
    "        return np.tensordot(nvectors_array, nvector, axes=1)\n",
    "    \n",
    "    data = self._points\n",
    "    # The first point in the convex_shell is the lowest one\n",
    "    lowest_point_index = (data.idxmin(axis=0).y)\n",
    "    # print(\"_______________________________            lowest_point is \", lowest_point_index)\n",
    "    self.convex_shell = [lowest_point_index]\n",
    "    current_vector = np.array([1, 0])\n",
    "    current_point_index = lowest_point_index\n",
    "    looped_to_lowest = False\n",
    "    # Then we go around points box counterclockwise: \n",
    "    while (looped_to_lowest == False):   \n",
    "        difference_vectors = np.array([\n",
    "            data.x - data.x[current_point_index],\n",
    "            data.y - data.y[current_point_index]\n",
    "        ])\n",
    "        # Difference vector contains (current_point - current_point) = 0. Let's delete it:\n",
    "        probe_vectors = np.delete(difference_vectors, (current_point_index), axis=1)\n",
    "        metrics = metric(probe_vectors, current_vector)\n",
    "        # Manually incert (current_point - current_point) metric to be the smallest and impossible: -2\n",
    "        metrics = np.insert(metrics, current_point_index, -2)\n",
    "        # print(len(metrics))\n",
    "        next_point_index = np.where(metrics == np.amax(metrics))[0][0]\n",
    "        # print(next_point_index)\n",
    "        \n",
    "        self.convex_shell.append(next_point_index)\n",
    "        current_vector = np.array([\n",
    "            data.x[next_point_index] - data.x[current_point_index],\n",
    "            data.y[next_point_index] - data.y[current_point_index]\n",
    "        ])\n",
    "        current_point_index = next_point_index\n",
    "        if current_point_index == lowest_point_index:\n",
    "          looped_to_lowest = True\n",
    "            \n",
    "  def collect_convex(self, show=False):\n",
    "    \"\"\"Adds a new convex shell line to the figure data\"\"\"\n",
    "    # TODO colormap for layers\n",
    "    if len(self.convex_shell):\n",
    "      convex_shell_df = self._points.loc[self._points.index[self.convex_shell]]\n",
    "    else:\n",
    "        convex_shell_df = pd.DataFrame(data=[], columns=(\"x\", \"y\"))\n",
    "        \n",
    "    convex_shell_figure = px.line(convex_shell_df, x=\"x\", y=\"y\" )\n",
    "    self.picture_data += convex_shell_figure.data\n",
    "    if show:\n",
    "        fig = go.Figure(data = self.picture_data)\n",
    "        fig.show()\n",
    "    \n",
    "  def drop_convex(self):\n",
    "    \"\"\"Remove convex_shell from _points DataFrame\"\"\"\n",
    "    self._points.drop(self.convex_shell, inplace=True, axis=0)\n",
    "    self._points.reset_index(drop=True, inplace=True)\n",
    "    self.convex_shell = []\n",
    "      "
   ]
  },
  {
   "cell_type": "code",
   "execution_count": 168,
   "metadata": {},
   "outputs": [
    {
     "name": "stdout",
     "output_type": "stream",
     "text": [
      "3\n",
      "2\n",
      "0\n",
      "1\n"
     ]
    }
   ],
   "source": [
    "box = Box(dimension=2, size=1, distribution='Gauss', points_number=4)\n",
    "box.find_convex()\n",
    "box.collect_convex()\n",
    "box.drop_convex()\n"
   ]
  },
  {
   "cell_type": "code",
   "execution_count": 193,
   "metadata": {
    "colab": {
     "base_uri": "https://localhost:8080/"
    },
    "id": "WFw6qcII5jE0",
    "outputId": "81f0cf41-e2ac-47d8-92f2-4073d540613f",
    "scrolled": false
   },
   "outputs": [],
   "source": [
    "shell_list = []\n",
    "for i in range(20):\n",
    "    box = Box(dimension=2, size=1, distribution='Gauss', points_number=20)\n",
    "    shell_size = []\n",
    "    while box._points.shape[0]:\n",
    "        box.find_convex()\n",
    "        box.collect_convex(show=False)\n",
    "        shell_size.append(len(box.convex_shell))\n",
    "        box.drop_convex()\n",
    "    # box.collect_convex(show=True)\n",
    "    shell_list.append(shell_size)\n"
   ]
  },
  {
   "cell_type": "code",
   "execution_count": 194,
   "metadata": {},
   "outputs": [
    {
     "data": {
      "application/vnd.plotly.v1+json": {
       "config": {
        "plotlyServerURL": "https://plot.ly"
       },
       "data": [
        {
         "hovertemplate": "Experiment=0<br>Iteration=%{x}<br>Size=%{y}<extra></extra>",
         "legendgroup": "0",
         "line": {
          "color": "#636efa",
          "dash": "solid"
         },
         "marker": {
          "symbol": "circle"
         },
         "mode": "lines",
         "name": "0",
         "orientation": "v",
         "showlegend": true,
         "type": "scatter",
         "x": [
          0,
          1,
          2,
          3
         ],
         "xaxis": "x",
         "y": [
          7,
          8,
          6,
          3
         ],
         "yaxis": "y"
        },
        {
         "hovertemplate": "Experiment=1<br>Iteration=%{x}<br>Size=%{y}<extra></extra>",
         "legendgroup": "1",
         "line": {
          "color": "#EF553B",
          "dash": "solid"
         },
         "marker": {
          "symbol": "circle"
         },
         "mode": "lines",
         "name": "1",
         "orientation": "v",
         "showlegend": true,
         "type": "scatter",
         "x": [
          0,
          1,
          2,
          3
         ],
         "xaxis": "x",
         "y": [
          8,
          8,
          5,
          3
         ],
         "yaxis": "y"
        },
        {
         "hovertemplate": "Experiment=2<br>Iteration=%{x}<br>Size=%{y}<extra></extra>",
         "legendgroup": "2",
         "line": {
          "color": "#00cc96",
          "dash": "solid"
         },
         "marker": {
          "symbol": "circle"
         },
         "mode": "lines",
         "name": "2",
         "orientation": "v",
         "showlegend": true,
         "type": "scatter",
         "x": [
          0,
          1,
          2,
          3
         ],
         "xaxis": "x",
         "y": [
          8,
          7,
          6,
          3
         ],
         "yaxis": "y"
        },
        {
         "hovertemplate": "Experiment=3<br>Iteration=%{x}<br>Size=%{y}<extra></extra>",
         "legendgroup": "3",
         "line": {
          "color": "#ab63fa",
          "dash": "solid"
         },
         "marker": {
          "symbol": "circle"
         },
         "mode": "lines",
         "name": "3",
         "orientation": "v",
         "showlegend": true,
         "type": "scatter",
         "x": [
          0,
          1,
          2,
          3
         ],
         "xaxis": "x",
         "y": [
          9,
          8,
          5,
          2
         ],
         "yaxis": "y"
        },
        {
         "hovertemplate": "Experiment=4<br>Iteration=%{x}<br>Size=%{y}<extra></extra>",
         "legendgroup": "4",
         "line": {
          "color": "#FFA15A",
          "dash": "solid"
         },
         "marker": {
          "symbol": "circle"
         },
         "mode": "lines",
         "name": "4",
         "orientation": "v",
         "showlegend": true,
         "type": "scatter",
         "x": [
          0,
          1,
          2,
          3
         ],
         "xaxis": "x",
         "y": [
          7,
          9,
          5,
          3
         ],
         "yaxis": "y"
        },
        {
         "hovertemplate": "Experiment=5<br>Iteration=%{x}<br>Size=%{y}<extra></extra>",
         "legendgroup": "5",
         "line": {
          "color": "#19d3f3",
          "dash": "solid"
         },
         "marker": {
          "symbol": "circle"
         },
         "mode": "lines",
         "name": "5",
         "orientation": "v",
         "showlegend": true,
         "type": "scatter",
         "x": [
          0,
          1,
          2,
          3
         ],
         "xaxis": "x",
         "y": [
          8,
          6,
          6,
          4
         ],
         "yaxis": "y"
        },
        {
         "hovertemplate": "Experiment=6<br>Iteration=%{x}<br>Size=%{y}<extra></extra>",
         "legendgroup": "6",
         "line": {
          "color": "#FF6692",
          "dash": "solid"
         },
         "marker": {
          "symbol": "circle"
         },
         "mode": "lines",
         "name": "6",
         "orientation": "v",
         "showlegend": true,
         "type": "scatter",
         "x": [
          0,
          1,
          2,
          3
         ],
         "xaxis": "x",
         "y": [
          9,
          6,
          6,
          3
         ],
         "yaxis": "y"
        },
        {
         "hovertemplate": "Experiment=7<br>Iteration=%{x}<br>Size=%{y}<extra></extra>",
         "legendgroup": "7",
         "line": {
          "color": "#B6E880",
          "dash": "solid"
         },
         "marker": {
          "symbol": "circle"
         },
         "mode": "lines",
         "name": "7",
         "orientation": "v",
         "showlegend": true,
         "type": "scatter",
         "x": [
          0,
          1,
          2,
          3
         ],
         "xaxis": "x",
         "y": [
          7,
          8,
          6,
          3
         ],
         "yaxis": "y"
        },
        {
         "hovertemplate": "Experiment=8<br>Iteration=%{x}<br>Size=%{y}<extra></extra>",
         "legendgroup": "8",
         "line": {
          "color": "#FF97FF",
          "dash": "solid"
         },
         "marker": {
          "symbol": "circle"
         },
         "mode": "lines",
         "name": "8",
         "orientation": "v",
         "showlegend": true,
         "type": "scatter",
         "x": [
          0,
          1,
          2,
          3
         ],
         "xaxis": "x",
         "y": [
          8,
          8,
          5,
          3
         ],
         "yaxis": "y"
        },
        {
         "hovertemplate": "Experiment=9<br>Iteration=%{x}<br>Size=%{y}<extra></extra>",
         "legendgroup": "9",
         "line": {
          "color": "#FECB52",
          "dash": "solid"
         },
         "marker": {
          "symbol": "circle"
         },
         "mode": "lines",
         "name": "9",
         "orientation": "v",
         "showlegend": true,
         "type": "scatter",
         "x": [
          0,
          1,
          2,
          3
         ],
         "xaxis": "x",
         "y": [
          7,
          9,
          5,
          3
         ],
         "yaxis": "y"
        },
        {
         "hovertemplate": "Experiment=10<br>Iteration=%{x}<br>Size=%{y}<extra></extra>",
         "legendgroup": "10",
         "line": {
          "color": "#636efa",
          "dash": "solid"
         },
         "marker": {
          "symbol": "circle"
         },
         "mode": "lines",
         "name": "10",
         "orientation": "v",
         "showlegend": true,
         "type": "scatter",
         "x": [
          0,
          1,
          2,
          3
         ],
         "xaxis": "x",
         "y": [
          7,
          9,
          6,
          2
         ],
         "yaxis": "y"
        },
        {
         "hovertemplate": "Experiment=11<br>Iteration=%{x}<br>Size=%{y}<extra></extra>",
         "legendgroup": "11",
         "line": {
          "color": "#EF553B",
          "dash": "solid"
         },
         "marker": {
          "symbol": "circle"
         },
         "mode": "lines",
         "name": "11",
         "orientation": "v",
         "showlegend": true,
         "type": "scatter",
         "x": [
          0,
          1,
          2,
          3
         ],
         "xaxis": "x",
         "y": [
          8,
          8,
          5,
          3
         ],
         "yaxis": "y"
        },
        {
         "hovertemplate": "Experiment=12<br>Iteration=%{x}<br>Size=%{y}<extra></extra>",
         "legendgroup": "12",
         "line": {
          "color": "#00cc96",
          "dash": "solid"
         },
         "marker": {
          "symbol": "circle"
         },
         "mode": "lines",
         "name": "12",
         "orientation": "v",
         "showlegend": true,
         "type": "scatter",
         "x": [
          0,
          1,
          2
         ],
         "xaxis": "x",
         "y": [
          8,
          7,
          8
         ],
         "yaxis": "y"
        },
        {
         "hovertemplate": "Experiment=13<br>Iteration=%{x}<br>Size=%{y}<extra></extra>",
         "legendgroup": "13",
         "line": {
          "color": "#ab63fa",
          "dash": "solid"
         },
         "marker": {
          "symbol": "circle"
         },
         "mode": "lines",
         "name": "13",
         "orientation": "v",
         "showlegend": true,
         "type": "scatter",
         "x": [
          0,
          1,
          2
         ],
         "xaxis": "x",
         "y": [
          9,
          8,
          6
         ],
         "yaxis": "y"
        },
        {
         "hovertemplate": "Experiment=14<br>Iteration=%{x}<br>Size=%{y}<extra></extra>",
         "legendgroup": "14",
         "line": {
          "color": "#FFA15A",
          "dash": "solid"
         },
         "marker": {
          "symbol": "circle"
         },
         "mode": "lines",
         "name": "14",
         "orientation": "v",
         "showlegend": true,
         "type": "scatter",
         "x": [
          0,
          1,
          2,
          3
         ],
         "xaxis": "x",
         "y": [
          9,
          7,
          6,
          2
         ],
         "yaxis": "y"
        },
        {
         "hovertemplate": "Experiment=15<br>Iteration=%{x}<br>Size=%{y}<extra></extra>",
         "legendgroup": "15",
         "line": {
          "color": "#19d3f3",
          "dash": "solid"
         },
         "marker": {
          "symbol": "circle"
         },
         "mode": "lines",
         "name": "15",
         "orientation": "v",
         "showlegend": true,
         "type": "scatter",
         "x": [
          0,
          1,
          2,
          3
         ],
         "xaxis": "x",
         "y": [
          7,
          10,
          5,
          2
         ],
         "yaxis": "y"
        },
        {
         "hovertemplate": "Experiment=16<br>Iteration=%{x}<br>Size=%{y}<extra></extra>",
         "legendgroup": "16",
         "line": {
          "color": "#FF6692",
          "dash": "solid"
         },
         "marker": {
          "symbol": "circle"
         },
         "mode": "lines",
         "name": "16",
         "orientation": "v",
         "showlegend": true,
         "type": "scatter",
         "x": [
          0,
          1,
          2
         ],
         "xaxis": "x",
         "y": [
          8,
          8,
          7
         ],
         "yaxis": "y"
        },
        {
         "hovertemplate": "Experiment=17<br>Iteration=%{x}<br>Size=%{y}<extra></extra>",
         "legendgroup": "17",
         "line": {
          "color": "#B6E880",
          "dash": "solid"
         },
         "marker": {
          "symbol": "circle"
         },
         "mode": "lines",
         "name": "17",
         "orientation": "v",
         "showlegend": true,
         "type": "scatter",
         "x": [
          0,
          1,
          2,
          3
         ],
         "xaxis": "x",
         "y": [
          7,
          7,
          7,
          3
         ],
         "yaxis": "y"
        },
        {
         "hovertemplate": "Experiment=18<br>Iteration=%{x}<br>Size=%{y}<extra></extra>",
         "legendgroup": "18",
         "line": {
          "color": "#FF97FF",
          "dash": "solid"
         },
         "marker": {
          "symbol": "circle"
         },
         "mode": "lines",
         "name": "18",
         "orientation": "v",
         "showlegend": true,
         "type": "scatter",
         "x": [
          0,
          1,
          2,
          3
         ],
         "xaxis": "x",
         "y": [
          9,
          7,
          5,
          3
         ],
         "yaxis": "y"
        },
        {
         "hovertemplate": "Experiment=19<br>Iteration=%{x}<br>Size=%{y}<extra></extra>",
         "legendgroup": "19",
         "line": {
          "color": "#FECB52",
          "dash": "solid"
         },
         "marker": {
          "symbol": "circle"
         },
         "mode": "lines",
         "name": "19",
         "orientation": "v",
         "showlegend": true,
         "type": "scatter",
         "x": [
          0,
          1,
          2,
          3
         ],
         "xaxis": "x",
         "y": [
          10,
          7,
          4,
          3
         ],
         "yaxis": "y"
        }
       ],
       "layout": {
        "legend": {
         "title": {
          "text": "Experiment"
         },
         "tracegroupgap": 0
        },
        "margin": {
         "t": 60
        },
        "template": {
         "data": {
          "bar": [
           {
            "error_x": {
             "color": "#2a3f5f"
            },
            "error_y": {
             "color": "#2a3f5f"
            },
            "marker": {
             "line": {
              "color": "#E5ECF6",
              "width": 0.5
             },
             "pattern": {
              "fillmode": "overlay",
              "size": 10,
              "solidity": 0.2
             }
            },
            "type": "bar"
           }
          ],
          "barpolar": [
           {
            "marker": {
             "line": {
              "color": "#E5ECF6",
              "width": 0.5
             },
             "pattern": {
              "fillmode": "overlay",
              "size": 10,
              "solidity": 0.2
             }
            },
            "type": "barpolar"
           }
          ],
          "carpet": [
           {
            "aaxis": {
             "endlinecolor": "#2a3f5f",
             "gridcolor": "white",
             "linecolor": "white",
             "minorgridcolor": "white",
             "startlinecolor": "#2a3f5f"
            },
            "baxis": {
             "endlinecolor": "#2a3f5f",
             "gridcolor": "white",
             "linecolor": "white",
             "minorgridcolor": "white",
             "startlinecolor": "#2a3f5f"
            },
            "type": "carpet"
           }
          ],
          "choropleth": [
           {
            "colorbar": {
             "outlinewidth": 0,
             "ticks": ""
            },
            "type": "choropleth"
           }
          ],
          "contour": [
           {
            "colorbar": {
             "outlinewidth": 0,
             "ticks": ""
            },
            "colorscale": [
             [
              0,
              "#0d0887"
             ],
             [
              0.1111111111111111,
              "#46039f"
             ],
             [
              0.2222222222222222,
              "#7201a8"
             ],
             [
              0.3333333333333333,
              "#9c179e"
             ],
             [
              0.4444444444444444,
              "#bd3786"
             ],
             [
              0.5555555555555556,
              "#d8576b"
             ],
             [
              0.6666666666666666,
              "#ed7953"
             ],
             [
              0.7777777777777778,
              "#fb9f3a"
             ],
             [
              0.8888888888888888,
              "#fdca26"
             ],
             [
              1,
              "#f0f921"
             ]
            ],
            "type": "contour"
           }
          ],
          "contourcarpet": [
           {
            "colorbar": {
             "outlinewidth": 0,
             "ticks": ""
            },
            "type": "contourcarpet"
           }
          ],
          "heatmap": [
           {
            "colorbar": {
             "outlinewidth": 0,
             "ticks": ""
            },
            "colorscale": [
             [
              0,
              "#0d0887"
             ],
             [
              0.1111111111111111,
              "#46039f"
             ],
             [
              0.2222222222222222,
              "#7201a8"
             ],
             [
              0.3333333333333333,
              "#9c179e"
             ],
             [
              0.4444444444444444,
              "#bd3786"
             ],
             [
              0.5555555555555556,
              "#d8576b"
             ],
             [
              0.6666666666666666,
              "#ed7953"
             ],
             [
              0.7777777777777778,
              "#fb9f3a"
             ],
             [
              0.8888888888888888,
              "#fdca26"
             ],
             [
              1,
              "#f0f921"
             ]
            ],
            "type": "heatmap"
           }
          ],
          "heatmapgl": [
           {
            "colorbar": {
             "outlinewidth": 0,
             "ticks": ""
            },
            "colorscale": [
             [
              0,
              "#0d0887"
             ],
             [
              0.1111111111111111,
              "#46039f"
             ],
             [
              0.2222222222222222,
              "#7201a8"
             ],
             [
              0.3333333333333333,
              "#9c179e"
             ],
             [
              0.4444444444444444,
              "#bd3786"
             ],
             [
              0.5555555555555556,
              "#d8576b"
             ],
             [
              0.6666666666666666,
              "#ed7953"
             ],
             [
              0.7777777777777778,
              "#fb9f3a"
             ],
             [
              0.8888888888888888,
              "#fdca26"
             ],
             [
              1,
              "#f0f921"
             ]
            ],
            "type": "heatmapgl"
           }
          ],
          "histogram": [
           {
            "marker": {
             "pattern": {
              "fillmode": "overlay",
              "size": 10,
              "solidity": 0.2
             }
            },
            "type": "histogram"
           }
          ],
          "histogram2d": [
           {
            "colorbar": {
             "outlinewidth": 0,
             "ticks": ""
            },
            "colorscale": [
             [
              0,
              "#0d0887"
             ],
             [
              0.1111111111111111,
              "#46039f"
             ],
             [
              0.2222222222222222,
              "#7201a8"
             ],
             [
              0.3333333333333333,
              "#9c179e"
             ],
             [
              0.4444444444444444,
              "#bd3786"
             ],
             [
              0.5555555555555556,
              "#d8576b"
             ],
             [
              0.6666666666666666,
              "#ed7953"
             ],
             [
              0.7777777777777778,
              "#fb9f3a"
             ],
             [
              0.8888888888888888,
              "#fdca26"
             ],
             [
              1,
              "#f0f921"
             ]
            ],
            "type": "histogram2d"
           }
          ],
          "histogram2dcontour": [
           {
            "colorbar": {
             "outlinewidth": 0,
             "ticks": ""
            },
            "colorscale": [
             [
              0,
              "#0d0887"
             ],
             [
              0.1111111111111111,
              "#46039f"
             ],
             [
              0.2222222222222222,
              "#7201a8"
             ],
             [
              0.3333333333333333,
              "#9c179e"
             ],
             [
              0.4444444444444444,
              "#bd3786"
             ],
             [
              0.5555555555555556,
              "#d8576b"
             ],
             [
              0.6666666666666666,
              "#ed7953"
             ],
             [
              0.7777777777777778,
              "#fb9f3a"
             ],
             [
              0.8888888888888888,
              "#fdca26"
             ],
             [
              1,
              "#f0f921"
             ]
            ],
            "type": "histogram2dcontour"
           }
          ],
          "mesh3d": [
           {
            "colorbar": {
             "outlinewidth": 0,
             "ticks": ""
            },
            "type": "mesh3d"
           }
          ],
          "parcoords": [
           {
            "line": {
             "colorbar": {
              "outlinewidth": 0,
              "ticks": ""
             }
            },
            "type": "parcoords"
           }
          ],
          "pie": [
           {
            "automargin": true,
            "type": "pie"
           }
          ],
          "scatter": [
           {
            "marker": {
             "colorbar": {
              "outlinewidth": 0,
              "ticks": ""
             }
            },
            "type": "scatter"
           }
          ],
          "scatter3d": [
           {
            "line": {
             "colorbar": {
              "outlinewidth": 0,
              "ticks": ""
             }
            },
            "marker": {
             "colorbar": {
              "outlinewidth": 0,
              "ticks": ""
             }
            },
            "type": "scatter3d"
           }
          ],
          "scattercarpet": [
           {
            "marker": {
             "colorbar": {
              "outlinewidth": 0,
              "ticks": ""
             }
            },
            "type": "scattercarpet"
           }
          ],
          "scattergeo": [
           {
            "marker": {
             "colorbar": {
              "outlinewidth": 0,
              "ticks": ""
             }
            },
            "type": "scattergeo"
           }
          ],
          "scattergl": [
           {
            "marker": {
             "colorbar": {
              "outlinewidth": 0,
              "ticks": ""
             }
            },
            "type": "scattergl"
           }
          ],
          "scattermapbox": [
           {
            "marker": {
             "colorbar": {
              "outlinewidth": 0,
              "ticks": ""
             }
            },
            "type": "scattermapbox"
           }
          ],
          "scatterpolar": [
           {
            "marker": {
             "colorbar": {
              "outlinewidth": 0,
              "ticks": ""
             }
            },
            "type": "scatterpolar"
           }
          ],
          "scatterpolargl": [
           {
            "marker": {
             "colorbar": {
              "outlinewidth": 0,
              "ticks": ""
             }
            },
            "type": "scatterpolargl"
           }
          ],
          "scatterternary": [
           {
            "marker": {
             "colorbar": {
              "outlinewidth": 0,
              "ticks": ""
             }
            },
            "type": "scatterternary"
           }
          ],
          "surface": [
           {
            "colorbar": {
             "outlinewidth": 0,
             "ticks": ""
            },
            "colorscale": [
             [
              0,
              "#0d0887"
             ],
             [
              0.1111111111111111,
              "#46039f"
             ],
             [
              0.2222222222222222,
              "#7201a8"
             ],
             [
              0.3333333333333333,
              "#9c179e"
             ],
             [
              0.4444444444444444,
              "#bd3786"
             ],
             [
              0.5555555555555556,
              "#d8576b"
             ],
             [
              0.6666666666666666,
              "#ed7953"
             ],
             [
              0.7777777777777778,
              "#fb9f3a"
             ],
             [
              0.8888888888888888,
              "#fdca26"
             ],
             [
              1,
              "#f0f921"
             ]
            ],
            "type": "surface"
           }
          ],
          "table": [
           {
            "cells": {
             "fill": {
              "color": "#EBF0F8"
             },
             "line": {
              "color": "white"
             }
            },
            "header": {
             "fill": {
              "color": "#C8D4E3"
             },
             "line": {
              "color": "white"
             }
            },
            "type": "table"
           }
          ]
         },
         "layout": {
          "annotationdefaults": {
           "arrowcolor": "#2a3f5f",
           "arrowhead": 0,
           "arrowwidth": 1
          },
          "autotypenumbers": "strict",
          "coloraxis": {
           "colorbar": {
            "outlinewidth": 0,
            "ticks": ""
           }
          },
          "colorscale": {
           "diverging": [
            [
             0,
             "#8e0152"
            ],
            [
             0.1,
             "#c51b7d"
            ],
            [
             0.2,
             "#de77ae"
            ],
            [
             0.3,
             "#f1b6da"
            ],
            [
             0.4,
             "#fde0ef"
            ],
            [
             0.5,
             "#f7f7f7"
            ],
            [
             0.6,
             "#e6f5d0"
            ],
            [
             0.7,
             "#b8e186"
            ],
            [
             0.8,
             "#7fbc41"
            ],
            [
             0.9,
             "#4d9221"
            ],
            [
             1,
             "#276419"
            ]
           ],
           "sequential": [
            [
             0,
             "#0d0887"
            ],
            [
             0.1111111111111111,
             "#46039f"
            ],
            [
             0.2222222222222222,
             "#7201a8"
            ],
            [
             0.3333333333333333,
             "#9c179e"
            ],
            [
             0.4444444444444444,
             "#bd3786"
            ],
            [
             0.5555555555555556,
             "#d8576b"
            ],
            [
             0.6666666666666666,
             "#ed7953"
            ],
            [
             0.7777777777777778,
             "#fb9f3a"
            ],
            [
             0.8888888888888888,
             "#fdca26"
            ],
            [
             1,
             "#f0f921"
            ]
           ],
           "sequentialminus": [
            [
             0,
             "#0d0887"
            ],
            [
             0.1111111111111111,
             "#46039f"
            ],
            [
             0.2222222222222222,
             "#7201a8"
            ],
            [
             0.3333333333333333,
             "#9c179e"
            ],
            [
             0.4444444444444444,
             "#bd3786"
            ],
            [
             0.5555555555555556,
             "#d8576b"
            ],
            [
             0.6666666666666666,
             "#ed7953"
            ],
            [
             0.7777777777777778,
             "#fb9f3a"
            ],
            [
             0.8888888888888888,
             "#fdca26"
            ],
            [
             1,
             "#f0f921"
            ]
           ]
          },
          "colorway": [
           "#636efa",
           "#EF553B",
           "#00cc96",
           "#ab63fa",
           "#FFA15A",
           "#19d3f3",
           "#FF6692",
           "#B6E880",
           "#FF97FF",
           "#FECB52"
          ],
          "font": {
           "color": "#2a3f5f"
          },
          "geo": {
           "bgcolor": "white",
           "lakecolor": "white",
           "landcolor": "#E5ECF6",
           "showlakes": true,
           "showland": true,
           "subunitcolor": "white"
          },
          "hoverlabel": {
           "align": "left"
          },
          "hovermode": "closest",
          "mapbox": {
           "style": "light"
          },
          "paper_bgcolor": "white",
          "plot_bgcolor": "#E5ECF6",
          "polar": {
           "angularaxis": {
            "gridcolor": "white",
            "linecolor": "white",
            "ticks": ""
           },
           "bgcolor": "#E5ECF6",
           "radialaxis": {
            "gridcolor": "white",
            "linecolor": "white",
            "ticks": ""
           }
          },
          "scene": {
           "xaxis": {
            "backgroundcolor": "#E5ECF6",
            "gridcolor": "white",
            "gridwidth": 2,
            "linecolor": "white",
            "showbackground": true,
            "ticks": "",
            "zerolinecolor": "white"
           },
           "yaxis": {
            "backgroundcolor": "#E5ECF6",
            "gridcolor": "white",
            "gridwidth": 2,
            "linecolor": "white",
            "showbackground": true,
            "ticks": "",
            "zerolinecolor": "white"
           },
           "zaxis": {
            "backgroundcolor": "#E5ECF6",
            "gridcolor": "white",
            "gridwidth": 2,
            "linecolor": "white",
            "showbackground": true,
            "ticks": "",
            "zerolinecolor": "white"
           }
          },
          "shapedefaults": {
           "line": {
            "color": "#2a3f5f"
           }
          },
          "ternary": {
           "aaxis": {
            "gridcolor": "white",
            "linecolor": "white",
            "ticks": ""
           },
           "baxis": {
            "gridcolor": "white",
            "linecolor": "white",
            "ticks": ""
           },
           "bgcolor": "#E5ECF6",
           "caxis": {
            "gridcolor": "white",
            "linecolor": "white",
            "ticks": ""
           }
          },
          "title": {
           "x": 0.05
          },
          "xaxis": {
           "automargin": true,
           "gridcolor": "white",
           "linecolor": "white",
           "ticks": "",
           "title": {
            "standoff": 15
           },
           "zerolinecolor": "white",
           "zerolinewidth": 2
          },
          "yaxis": {
           "automargin": true,
           "gridcolor": "white",
           "linecolor": "white",
           "ticks": "",
           "title": {
            "standoff": 15
           },
           "zerolinecolor": "white",
           "zerolinewidth": 2
          }
         }
        },
        "xaxis": {
         "anchor": "y",
         "domain": [
          0,
          1
         ],
         "title": {
          "text": "Iteration"
         }
        },
        "yaxis": {
         "anchor": "x",
         "domain": [
          0,
          1
         ],
         "title": {
          "text": "Size"
         }
        }
       }
      },
      "text/html": [
       "<div>                            <div id=\"cdad3a24-3aa8-415d-8d6b-739586d61540\" class=\"plotly-graph-div\" style=\"height:525px; width:100%;\"></div>            <script type=\"text/javascript\">                require([\"plotly\"], function(Plotly) {                    window.PLOTLYENV=window.PLOTLYENV || {};                                    if (document.getElementById(\"cdad3a24-3aa8-415d-8d6b-739586d61540\")) {                    Plotly.newPlot(                        \"cdad3a24-3aa8-415d-8d6b-739586d61540\",                        [{\"hovertemplate\":\"Experiment=0<br>Iteration=%{x}<br>Size=%{y}<extra></extra>\",\"legendgroup\":\"0\",\"line\":{\"color\":\"#636efa\",\"dash\":\"solid\"},\"marker\":{\"symbol\":\"circle\"},\"mode\":\"lines\",\"name\":\"0\",\"orientation\":\"v\",\"showlegend\":true,\"x\":[0,1,2,3],\"xaxis\":\"x\",\"y\":[7.0,8.0,6.0,3.0],\"yaxis\":\"y\",\"type\":\"scatter\"},{\"hovertemplate\":\"Experiment=1<br>Iteration=%{x}<br>Size=%{y}<extra></extra>\",\"legendgroup\":\"1\",\"line\":{\"color\":\"#EF553B\",\"dash\":\"solid\"},\"marker\":{\"symbol\":\"circle\"},\"mode\":\"lines\",\"name\":\"1\",\"orientation\":\"v\",\"showlegend\":true,\"x\":[0,1,2,3],\"xaxis\":\"x\",\"y\":[8.0,8.0,5.0,3.0],\"yaxis\":\"y\",\"type\":\"scatter\"},{\"hovertemplate\":\"Experiment=2<br>Iteration=%{x}<br>Size=%{y}<extra></extra>\",\"legendgroup\":\"2\",\"line\":{\"color\":\"#00cc96\",\"dash\":\"solid\"},\"marker\":{\"symbol\":\"circle\"},\"mode\":\"lines\",\"name\":\"2\",\"orientation\":\"v\",\"showlegend\":true,\"x\":[0,1,2,3],\"xaxis\":\"x\",\"y\":[8.0,7.0,6.0,3.0],\"yaxis\":\"y\",\"type\":\"scatter\"},{\"hovertemplate\":\"Experiment=3<br>Iteration=%{x}<br>Size=%{y}<extra></extra>\",\"legendgroup\":\"3\",\"line\":{\"color\":\"#ab63fa\",\"dash\":\"solid\"},\"marker\":{\"symbol\":\"circle\"},\"mode\":\"lines\",\"name\":\"3\",\"orientation\":\"v\",\"showlegend\":true,\"x\":[0,1,2,3],\"xaxis\":\"x\",\"y\":[9.0,8.0,5.0,2.0],\"yaxis\":\"y\",\"type\":\"scatter\"},{\"hovertemplate\":\"Experiment=4<br>Iteration=%{x}<br>Size=%{y}<extra></extra>\",\"legendgroup\":\"4\",\"line\":{\"color\":\"#FFA15A\",\"dash\":\"solid\"},\"marker\":{\"symbol\":\"circle\"},\"mode\":\"lines\",\"name\":\"4\",\"orientation\":\"v\",\"showlegend\":true,\"x\":[0,1,2,3],\"xaxis\":\"x\",\"y\":[7.0,9.0,5.0,3.0],\"yaxis\":\"y\",\"type\":\"scatter\"},{\"hovertemplate\":\"Experiment=5<br>Iteration=%{x}<br>Size=%{y}<extra></extra>\",\"legendgroup\":\"5\",\"line\":{\"color\":\"#19d3f3\",\"dash\":\"solid\"},\"marker\":{\"symbol\":\"circle\"},\"mode\":\"lines\",\"name\":\"5\",\"orientation\":\"v\",\"showlegend\":true,\"x\":[0,1,2,3],\"xaxis\":\"x\",\"y\":[8.0,6.0,6.0,4.0],\"yaxis\":\"y\",\"type\":\"scatter\"},{\"hovertemplate\":\"Experiment=6<br>Iteration=%{x}<br>Size=%{y}<extra></extra>\",\"legendgroup\":\"6\",\"line\":{\"color\":\"#FF6692\",\"dash\":\"solid\"},\"marker\":{\"symbol\":\"circle\"},\"mode\":\"lines\",\"name\":\"6\",\"orientation\":\"v\",\"showlegend\":true,\"x\":[0,1,2,3],\"xaxis\":\"x\",\"y\":[9.0,6.0,6.0,3.0],\"yaxis\":\"y\",\"type\":\"scatter\"},{\"hovertemplate\":\"Experiment=7<br>Iteration=%{x}<br>Size=%{y}<extra></extra>\",\"legendgroup\":\"7\",\"line\":{\"color\":\"#B6E880\",\"dash\":\"solid\"},\"marker\":{\"symbol\":\"circle\"},\"mode\":\"lines\",\"name\":\"7\",\"orientation\":\"v\",\"showlegend\":true,\"x\":[0,1,2,3],\"xaxis\":\"x\",\"y\":[7.0,8.0,6.0,3.0],\"yaxis\":\"y\",\"type\":\"scatter\"},{\"hovertemplate\":\"Experiment=8<br>Iteration=%{x}<br>Size=%{y}<extra></extra>\",\"legendgroup\":\"8\",\"line\":{\"color\":\"#FF97FF\",\"dash\":\"solid\"},\"marker\":{\"symbol\":\"circle\"},\"mode\":\"lines\",\"name\":\"8\",\"orientation\":\"v\",\"showlegend\":true,\"x\":[0,1,2,3],\"xaxis\":\"x\",\"y\":[8.0,8.0,5.0,3.0],\"yaxis\":\"y\",\"type\":\"scatter\"},{\"hovertemplate\":\"Experiment=9<br>Iteration=%{x}<br>Size=%{y}<extra></extra>\",\"legendgroup\":\"9\",\"line\":{\"color\":\"#FECB52\",\"dash\":\"solid\"},\"marker\":{\"symbol\":\"circle\"},\"mode\":\"lines\",\"name\":\"9\",\"orientation\":\"v\",\"showlegend\":true,\"x\":[0,1,2,3],\"xaxis\":\"x\",\"y\":[7.0,9.0,5.0,3.0],\"yaxis\":\"y\",\"type\":\"scatter\"},{\"hovertemplate\":\"Experiment=10<br>Iteration=%{x}<br>Size=%{y}<extra></extra>\",\"legendgroup\":\"10\",\"line\":{\"color\":\"#636efa\",\"dash\":\"solid\"},\"marker\":{\"symbol\":\"circle\"},\"mode\":\"lines\",\"name\":\"10\",\"orientation\":\"v\",\"showlegend\":true,\"x\":[0,1,2,3],\"xaxis\":\"x\",\"y\":[7.0,9.0,6.0,2.0],\"yaxis\":\"y\",\"type\":\"scatter\"},{\"hovertemplate\":\"Experiment=11<br>Iteration=%{x}<br>Size=%{y}<extra></extra>\",\"legendgroup\":\"11\",\"line\":{\"color\":\"#EF553B\",\"dash\":\"solid\"},\"marker\":{\"symbol\":\"circle\"},\"mode\":\"lines\",\"name\":\"11\",\"orientation\":\"v\",\"showlegend\":true,\"x\":[0,1,2,3],\"xaxis\":\"x\",\"y\":[8.0,8.0,5.0,3.0],\"yaxis\":\"y\",\"type\":\"scatter\"},{\"hovertemplate\":\"Experiment=12<br>Iteration=%{x}<br>Size=%{y}<extra></extra>\",\"legendgroup\":\"12\",\"line\":{\"color\":\"#00cc96\",\"dash\":\"solid\"},\"marker\":{\"symbol\":\"circle\"},\"mode\":\"lines\",\"name\":\"12\",\"orientation\":\"v\",\"showlegend\":true,\"x\":[0,1,2],\"xaxis\":\"x\",\"y\":[8.0,7.0,8.0],\"yaxis\":\"y\",\"type\":\"scatter\"},{\"hovertemplate\":\"Experiment=13<br>Iteration=%{x}<br>Size=%{y}<extra></extra>\",\"legendgroup\":\"13\",\"line\":{\"color\":\"#ab63fa\",\"dash\":\"solid\"},\"marker\":{\"symbol\":\"circle\"},\"mode\":\"lines\",\"name\":\"13\",\"orientation\":\"v\",\"showlegend\":true,\"x\":[0,1,2],\"xaxis\":\"x\",\"y\":[9.0,8.0,6.0],\"yaxis\":\"y\",\"type\":\"scatter\"},{\"hovertemplate\":\"Experiment=14<br>Iteration=%{x}<br>Size=%{y}<extra></extra>\",\"legendgroup\":\"14\",\"line\":{\"color\":\"#FFA15A\",\"dash\":\"solid\"},\"marker\":{\"symbol\":\"circle\"},\"mode\":\"lines\",\"name\":\"14\",\"orientation\":\"v\",\"showlegend\":true,\"x\":[0,1,2,3],\"xaxis\":\"x\",\"y\":[9.0,7.0,6.0,2.0],\"yaxis\":\"y\",\"type\":\"scatter\"},{\"hovertemplate\":\"Experiment=15<br>Iteration=%{x}<br>Size=%{y}<extra></extra>\",\"legendgroup\":\"15\",\"line\":{\"color\":\"#19d3f3\",\"dash\":\"solid\"},\"marker\":{\"symbol\":\"circle\"},\"mode\":\"lines\",\"name\":\"15\",\"orientation\":\"v\",\"showlegend\":true,\"x\":[0,1,2,3],\"xaxis\":\"x\",\"y\":[7.0,10.0,5.0,2.0],\"yaxis\":\"y\",\"type\":\"scatter\"},{\"hovertemplate\":\"Experiment=16<br>Iteration=%{x}<br>Size=%{y}<extra></extra>\",\"legendgroup\":\"16\",\"line\":{\"color\":\"#FF6692\",\"dash\":\"solid\"},\"marker\":{\"symbol\":\"circle\"},\"mode\":\"lines\",\"name\":\"16\",\"orientation\":\"v\",\"showlegend\":true,\"x\":[0,1,2],\"xaxis\":\"x\",\"y\":[8.0,8.0,7.0],\"yaxis\":\"y\",\"type\":\"scatter\"},{\"hovertemplate\":\"Experiment=17<br>Iteration=%{x}<br>Size=%{y}<extra></extra>\",\"legendgroup\":\"17\",\"line\":{\"color\":\"#B6E880\",\"dash\":\"solid\"},\"marker\":{\"symbol\":\"circle\"},\"mode\":\"lines\",\"name\":\"17\",\"orientation\":\"v\",\"showlegend\":true,\"x\":[0,1,2,3],\"xaxis\":\"x\",\"y\":[7.0,7.0,7.0,3.0],\"yaxis\":\"y\",\"type\":\"scatter\"},{\"hovertemplate\":\"Experiment=18<br>Iteration=%{x}<br>Size=%{y}<extra></extra>\",\"legendgroup\":\"18\",\"line\":{\"color\":\"#FF97FF\",\"dash\":\"solid\"},\"marker\":{\"symbol\":\"circle\"},\"mode\":\"lines\",\"name\":\"18\",\"orientation\":\"v\",\"showlegend\":true,\"x\":[0,1,2,3],\"xaxis\":\"x\",\"y\":[9.0,7.0,5.0,3.0],\"yaxis\":\"y\",\"type\":\"scatter\"},{\"hovertemplate\":\"Experiment=19<br>Iteration=%{x}<br>Size=%{y}<extra></extra>\",\"legendgroup\":\"19\",\"line\":{\"color\":\"#FECB52\",\"dash\":\"solid\"},\"marker\":{\"symbol\":\"circle\"},\"mode\":\"lines\",\"name\":\"19\",\"orientation\":\"v\",\"showlegend\":true,\"x\":[0,1,2,3],\"xaxis\":\"x\",\"y\":[10.0,7.0,4.0,3.0],\"yaxis\":\"y\",\"type\":\"scatter\"}],                        {\"template\":{\"data\":{\"bar\":[{\"error_x\":{\"color\":\"#2a3f5f\"},\"error_y\":{\"color\":\"#2a3f5f\"},\"marker\":{\"line\":{\"color\":\"#E5ECF6\",\"width\":0.5},\"pattern\":{\"fillmode\":\"overlay\",\"size\":10,\"solidity\":0.2}},\"type\":\"bar\"}],\"barpolar\":[{\"marker\":{\"line\":{\"color\":\"#E5ECF6\",\"width\":0.5},\"pattern\":{\"fillmode\":\"overlay\",\"size\":10,\"solidity\":0.2}},\"type\":\"barpolar\"}],\"carpet\":[{\"aaxis\":{\"endlinecolor\":\"#2a3f5f\",\"gridcolor\":\"white\",\"linecolor\":\"white\",\"minorgridcolor\":\"white\",\"startlinecolor\":\"#2a3f5f\"},\"baxis\":{\"endlinecolor\":\"#2a3f5f\",\"gridcolor\":\"white\",\"linecolor\":\"white\",\"minorgridcolor\":\"white\",\"startlinecolor\":\"#2a3f5f\"},\"type\":\"carpet\"}],\"choropleth\":[{\"colorbar\":{\"outlinewidth\":0,\"ticks\":\"\"},\"type\":\"choropleth\"}],\"contour\":[{\"colorbar\":{\"outlinewidth\":0,\"ticks\":\"\"},\"colorscale\":[[0.0,\"#0d0887\"],[0.1111111111111111,\"#46039f\"],[0.2222222222222222,\"#7201a8\"],[0.3333333333333333,\"#9c179e\"],[0.4444444444444444,\"#bd3786\"],[0.5555555555555556,\"#d8576b\"],[0.6666666666666666,\"#ed7953\"],[0.7777777777777778,\"#fb9f3a\"],[0.8888888888888888,\"#fdca26\"],[1.0,\"#f0f921\"]],\"type\":\"contour\"}],\"contourcarpet\":[{\"colorbar\":{\"outlinewidth\":0,\"ticks\":\"\"},\"type\":\"contourcarpet\"}],\"heatmap\":[{\"colorbar\":{\"outlinewidth\":0,\"ticks\":\"\"},\"colorscale\":[[0.0,\"#0d0887\"],[0.1111111111111111,\"#46039f\"],[0.2222222222222222,\"#7201a8\"],[0.3333333333333333,\"#9c179e\"],[0.4444444444444444,\"#bd3786\"],[0.5555555555555556,\"#d8576b\"],[0.6666666666666666,\"#ed7953\"],[0.7777777777777778,\"#fb9f3a\"],[0.8888888888888888,\"#fdca26\"],[1.0,\"#f0f921\"]],\"type\":\"heatmap\"}],\"heatmapgl\":[{\"colorbar\":{\"outlinewidth\":0,\"ticks\":\"\"},\"colorscale\":[[0.0,\"#0d0887\"],[0.1111111111111111,\"#46039f\"],[0.2222222222222222,\"#7201a8\"],[0.3333333333333333,\"#9c179e\"],[0.4444444444444444,\"#bd3786\"],[0.5555555555555556,\"#d8576b\"],[0.6666666666666666,\"#ed7953\"],[0.7777777777777778,\"#fb9f3a\"],[0.8888888888888888,\"#fdca26\"],[1.0,\"#f0f921\"]],\"type\":\"heatmapgl\"}],\"histogram\":[{\"marker\":{\"pattern\":{\"fillmode\":\"overlay\",\"size\":10,\"solidity\":0.2}},\"type\":\"histogram\"}],\"histogram2d\":[{\"colorbar\":{\"outlinewidth\":0,\"ticks\":\"\"},\"colorscale\":[[0.0,\"#0d0887\"],[0.1111111111111111,\"#46039f\"],[0.2222222222222222,\"#7201a8\"],[0.3333333333333333,\"#9c179e\"],[0.4444444444444444,\"#bd3786\"],[0.5555555555555556,\"#d8576b\"],[0.6666666666666666,\"#ed7953\"],[0.7777777777777778,\"#fb9f3a\"],[0.8888888888888888,\"#fdca26\"],[1.0,\"#f0f921\"]],\"type\":\"histogram2d\"}],\"histogram2dcontour\":[{\"colorbar\":{\"outlinewidth\":0,\"ticks\":\"\"},\"colorscale\":[[0.0,\"#0d0887\"],[0.1111111111111111,\"#46039f\"],[0.2222222222222222,\"#7201a8\"],[0.3333333333333333,\"#9c179e\"],[0.4444444444444444,\"#bd3786\"],[0.5555555555555556,\"#d8576b\"],[0.6666666666666666,\"#ed7953\"],[0.7777777777777778,\"#fb9f3a\"],[0.8888888888888888,\"#fdca26\"],[1.0,\"#f0f921\"]],\"type\":\"histogram2dcontour\"}],\"mesh3d\":[{\"colorbar\":{\"outlinewidth\":0,\"ticks\":\"\"},\"type\":\"mesh3d\"}],\"parcoords\":[{\"line\":{\"colorbar\":{\"outlinewidth\":0,\"ticks\":\"\"}},\"type\":\"parcoords\"}],\"pie\":[{\"automargin\":true,\"type\":\"pie\"}],\"scatter\":[{\"marker\":{\"colorbar\":{\"outlinewidth\":0,\"ticks\":\"\"}},\"type\":\"scatter\"}],\"scatter3d\":[{\"line\":{\"colorbar\":{\"outlinewidth\":0,\"ticks\":\"\"}},\"marker\":{\"colorbar\":{\"outlinewidth\":0,\"ticks\":\"\"}},\"type\":\"scatter3d\"}],\"scattercarpet\":[{\"marker\":{\"colorbar\":{\"outlinewidth\":0,\"ticks\":\"\"}},\"type\":\"scattercarpet\"}],\"scattergeo\":[{\"marker\":{\"colorbar\":{\"outlinewidth\":0,\"ticks\":\"\"}},\"type\":\"scattergeo\"}],\"scattergl\":[{\"marker\":{\"colorbar\":{\"outlinewidth\":0,\"ticks\":\"\"}},\"type\":\"scattergl\"}],\"scattermapbox\":[{\"marker\":{\"colorbar\":{\"outlinewidth\":0,\"ticks\":\"\"}},\"type\":\"scattermapbox\"}],\"scatterpolar\":[{\"marker\":{\"colorbar\":{\"outlinewidth\":0,\"ticks\":\"\"}},\"type\":\"scatterpolar\"}],\"scatterpolargl\":[{\"marker\":{\"colorbar\":{\"outlinewidth\":0,\"ticks\":\"\"}},\"type\":\"scatterpolargl\"}],\"scatterternary\":[{\"marker\":{\"colorbar\":{\"outlinewidth\":0,\"ticks\":\"\"}},\"type\":\"scatterternary\"}],\"surface\":[{\"colorbar\":{\"outlinewidth\":0,\"ticks\":\"\"},\"colorscale\":[[0.0,\"#0d0887\"],[0.1111111111111111,\"#46039f\"],[0.2222222222222222,\"#7201a8\"],[0.3333333333333333,\"#9c179e\"],[0.4444444444444444,\"#bd3786\"],[0.5555555555555556,\"#d8576b\"],[0.6666666666666666,\"#ed7953\"],[0.7777777777777778,\"#fb9f3a\"],[0.8888888888888888,\"#fdca26\"],[1.0,\"#f0f921\"]],\"type\":\"surface\"}],\"table\":[{\"cells\":{\"fill\":{\"color\":\"#EBF0F8\"},\"line\":{\"color\":\"white\"}},\"header\":{\"fill\":{\"color\":\"#C8D4E3\"},\"line\":{\"color\":\"white\"}},\"type\":\"table\"}]},\"layout\":{\"annotationdefaults\":{\"arrowcolor\":\"#2a3f5f\",\"arrowhead\":0,\"arrowwidth\":1},\"autotypenumbers\":\"strict\",\"coloraxis\":{\"colorbar\":{\"outlinewidth\":0,\"ticks\":\"\"}},\"colorscale\":{\"diverging\":[[0,\"#8e0152\"],[0.1,\"#c51b7d\"],[0.2,\"#de77ae\"],[0.3,\"#f1b6da\"],[0.4,\"#fde0ef\"],[0.5,\"#f7f7f7\"],[0.6,\"#e6f5d0\"],[0.7,\"#b8e186\"],[0.8,\"#7fbc41\"],[0.9,\"#4d9221\"],[1,\"#276419\"]],\"sequential\":[[0.0,\"#0d0887\"],[0.1111111111111111,\"#46039f\"],[0.2222222222222222,\"#7201a8\"],[0.3333333333333333,\"#9c179e\"],[0.4444444444444444,\"#bd3786\"],[0.5555555555555556,\"#d8576b\"],[0.6666666666666666,\"#ed7953\"],[0.7777777777777778,\"#fb9f3a\"],[0.8888888888888888,\"#fdca26\"],[1.0,\"#f0f921\"]],\"sequentialminus\":[[0.0,\"#0d0887\"],[0.1111111111111111,\"#46039f\"],[0.2222222222222222,\"#7201a8\"],[0.3333333333333333,\"#9c179e\"],[0.4444444444444444,\"#bd3786\"],[0.5555555555555556,\"#d8576b\"],[0.6666666666666666,\"#ed7953\"],[0.7777777777777778,\"#fb9f3a\"],[0.8888888888888888,\"#fdca26\"],[1.0,\"#f0f921\"]]},\"colorway\":[\"#636efa\",\"#EF553B\",\"#00cc96\",\"#ab63fa\",\"#FFA15A\",\"#19d3f3\",\"#FF6692\",\"#B6E880\",\"#FF97FF\",\"#FECB52\"],\"font\":{\"color\":\"#2a3f5f\"},\"geo\":{\"bgcolor\":\"white\",\"lakecolor\":\"white\",\"landcolor\":\"#E5ECF6\",\"showlakes\":true,\"showland\":true,\"subunitcolor\":\"white\"},\"hoverlabel\":{\"align\":\"left\"},\"hovermode\":\"closest\",\"mapbox\":{\"style\":\"light\"},\"paper_bgcolor\":\"white\",\"plot_bgcolor\":\"#E5ECF6\",\"polar\":{\"angularaxis\":{\"gridcolor\":\"white\",\"linecolor\":\"white\",\"ticks\":\"\"},\"bgcolor\":\"#E5ECF6\",\"radialaxis\":{\"gridcolor\":\"white\",\"linecolor\":\"white\",\"ticks\":\"\"}},\"scene\":{\"xaxis\":{\"backgroundcolor\":\"#E5ECF6\",\"gridcolor\":\"white\",\"gridwidth\":2,\"linecolor\":\"white\",\"showbackground\":true,\"ticks\":\"\",\"zerolinecolor\":\"white\"},\"yaxis\":{\"backgroundcolor\":\"#E5ECF6\",\"gridcolor\":\"white\",\"gridwidth\":2,\"linecolor\":\"white\",\"showbackground\":true,\"ticks\":\"\",\"zerolinecolor\":\"white\"},\"zaxis\":{\"backgroundcolor\":\"#E5ECF6\",\"gridcolor\":\"white\",\"gridwidth\":2,\"linecolor\":\"white\",\"showbackground\":true,\"ticks\":\"\",\"zerolinecolor\":\"white\"}},\"shapedefaults\":{\"line\":{\"color\":\"#2a3f5f\"}},\"ternary\":{\"aaxis\":{\"gridcolor\":\"white\",\"linecolor\":\"white\",\"ticks\":\"\"},\"baxis\":{\"gridcolor\":\"white\",\"linecolor\":\"white\",\"ticks\":\"\"},\"bgcolor\":\"#E5ECF6\",\"caxis\":{\"gridcolor\":\"white\",\"linecolor\":\"white\",\"ticks\":\"\"}},\"title\":{\"x\":0.05},\"xaxis\":{\"automargin\":true,\"gridcolor\":\"white\",\"linecolor\":\"white\",\"ticks\":\"\",\"title\":{\"standoff\":15},\"zerolinecolor\":\"white\",\"zerolinewidth\":2},\"yaxis\":{\"automargin\":true,\"gridcolor\":\"white\",\"linecolor\":\"white\",\"ticks\":\"\",\"title\":{\"standoff\":15},\"zerolinecolor\":\"white\",\"zerolinewidth\":2}}},\"xaxis\":{\"anchor\":\"y\",\"domain\":[0.0,1.0],\"title\":{\"text\":\"Iteration\"}},\"yaxis\":{\"anchor\":\"x\",\"domain\":[0.0,1.0],\"title\":{\"text\":\"Size\"}},\"legend\":{\"title\":{\"text\":\"Experiment\"},\"tracegroupgap\":0},\"margin\":{\"t\":60}},                        {\"responsive\": true}                    ).then(function(){\n",
       "                            \n",
       "var gd = document.getElementById('cdad3a24-3aa8-415d-8d6b-739586d61540');\n",
       "var x = new MutationObserver(function (mutations, observer) {{\n",
       "        var display = window.getComputedStyle(gd).display;\n",
       "        if (!display || display === 'none') {{\n",
       "            console.log([gd, 'removed!']);\n",
       "            Plotly.purge(gd);\n",
       "            observer.disconnect();\n",
       "        }}\n",
       "}});\n",
       "\n",
       "// Listen for the removal of the full notebook cells\n",
       "var notebookContainer = gd.closest('#notebook-container');\n",
       "if (notebookContainer) {{\n",
       "    x.observe(notebookContainer, {childList: true});\n",
       "}}\n",
       "\n",
       "// Listen for the clearing of the current output cell\n",
       "var outputEl = gd.closest('.output');\n",
       "if (outputEl) {{\n",
       "    x.observe(outputEl, {childList: true});\n",
       "}}\n",
       "\n",
       "                        })                };                });            </script>        </div>"
      ]
     },
     "metadata": {},
     "output_type": "display_data"
    }
   ],
   "source": [
    "df = pd.DataFrame(shell_list)\n",
    "df = df.transpose()\n",
    "df = pd.melt(df, ignore_index=False, var_name=\"Experiment\", value_name=\"Size\")\n",
    "df['Iteration'] = df.index\n",
    "df.reset_index(inplace=True)\n",
    "df.dropna(inplace=True)\n",
    "df.head()\n",
    "chart = px.line(df, x='Iteration', y='Size', color='Experiment')\n",
    "chart.show()"
   ]
  }
 ],
 "metadata": {
  "colab": {
   "collapsed_sections": [],
   "name": "convex_shell.ipynb",
   "provenance": []
  },
  "kernelspec": {
   "display_name": "Python 3 (ipykernel)",
   "language": "python",
   "name": "python3"
  },
  "language_info": {
   "codemirror_mode": {
    "name": "ipython",
    "version": 3
   },
   "file_extension": ".py",
   "mimetype": "text/x-python",
   "name": "python",
   "nbconvert_exporter": "python",
   "pygments_lexer": "ipython3",
   "version": "3.8.10"
  }
 },
 "nbformat": 4,
 "nbformat_minor": 1
}
