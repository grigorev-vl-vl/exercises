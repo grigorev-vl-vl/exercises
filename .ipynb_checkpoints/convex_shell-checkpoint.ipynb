{
 "cells": [
  {
   "cell_type": "code",
   "execution_count": 1,
   "metadata": {
    "id": "j7RjbNA4yhjQ"
   },
   "outputs": [],
   "source": [
    "import pandas as pd\n",
    "import numpy as np\n",
    "import random\n",
    "import plotly.express as px\n",
    "import plotly.graph_objects as go\n",
    "\n",
    "# TODO add more distributions\n",
    "# TODO estimate f(iteration) = len(_points)(iteration)\n",
    "# TODO optimise algorithm\n",
    "# TODO time check"
   ]
  },
  {
   "cell_type": "code",
   "execution_count": 166,
   "metadata": {
    "id": "_uDvyaUOxk89"
   },
   "outputs": [],
   "source": [
    "class Box(object):\n",
    "  \"\"\"Box with dots, the problem is to find their minimal convex shell\"\"\"\n",
    "  def __init__(self, dimension=2, size=1, distribution='Uniform', points_number=100):\n",
    "    self.dimension = dimension\n",
    "    self.size = size\n",
    "    self.distribution = distribution\n",
    "    self.points_number = points_number\n",
    "    self.convex_shell = []\n",
    "    points_array = np.array([\n",
    "                       [random.random() for x_iterator in range(self.points_number)], \n",
    "                      [random.random() for y_iterator in range(self.points_number)]\n",
    "                      ]).reshape((self.points_number,2))\n",
    "    self._points = pd.DataFrame(data=points_array, columns=(\"x\", \"y\"))\n",
    "    self.picture_data = px.scatter(self._points, x=\"x\", y=\"y\").data\n",
    "                   \n",
    "\n",
    "  def find_convex(self):\n",
    "    data = self._points\n",
    "    # The first point in the convex_shell is the lowest one\n",
    "    lowest_point_index = (data.idxmin(axis=0).y)\n",
    "    # print(\"_______________________________            lowest_point is \", lowest_point_index)\n",
    "    self.convex_shell = [lowest_point_index]\n",
    "    current_vector = np.array([1, 0])\n",
    "    current_point_index = lowest_point_index\n",
    "    looped_to_lowest = False\n",
    "    # Then we go around points box counterclockwise: \n",
    "    while (looped_to_lowest == False):\n",
    "        current_maximal_metric = -self.points_number**2 # TODO change maximal metric in case of box is not 1x1\n",
    "        next_point_index = data.shape[0]+1\n",
    "        for point_iterator in range(data.shape[0]):\n",
    "          # print(\"looking at the point = \", point_iterator)\n",
    "          if point_iterator != current_point_index:\n",
    "              probe_vector = np.array(\n",
    "                  [data.x[point_iterator] - data.x[current_point_index],\n",
    "                   data.y[point_iterator] - data.y[current_point_index]]\n",
    "              )\n",
    "              closest_metric_checker = (current_vector.dot(probe_vector)) / (\n",
    "                    np.sqrt(current_vector.dot(current_vector) *\n",
    "                            probe_vector.dot(probe_vector))\n",
    "              )\n",
    "              if closest_metric_checker > current_maximal_metric:\n",
    "                current_maximal_metric = closest_metric_checker\n",
    "                next_point_index = point_iterator\n",
    "          # In case of problems with shell:\n",
    "        if next_point_index == data.shape[0] + 1:\n",
    "            print(\"Can't find a new point!\")\n",
    "            next_point_index = lowest_point_index\n",
    "        # print(\"_______________________________________        Next point is \", next_point_index)\n",
    "        self.convex_shell.append(next_point_index)\n",
    "        current_vector = np.array([data.x[next_point_index] - data.x[current_point_index], data.y[next_point_index] - data.y[current_point_index]])\n",
    "        current_point_index = next_point_index\n",
    "        if current_point_index == lowest_point_index:\n",
    "          looped_to_lowest = True\n",
    "            \n",
    "  def collect_convex(self, show=False):\n",
    "    \"\"\"Adds a new convex shell line to the figure data\"\"\"\n",
    "    # TODO colormap for layers\n",
    "    if len(self.convex_shell):\n",
    "      convex_shell_df = self._points.loc[self._points.index[self.convex_shell]]\n",
    "    else:\n",
    "        convex_shell_df = pd.DataFrame(data=[], columns=(\"x\", \"y\"))\n",
    "        \n",
    "    convex_shell_figure = px.line(convex_shell_df, x=\"x\", y=\"y\" )\n",
    "    self.picture_data += convex_shell_figure.data\n",
    "    if show:\n",
    "        fig = go.Figure(data = self.picture_data)\n",
    "        fig.show()\n",
    "    \n",
    "  def drop_convex(self):\n",
    "    \"\"\"Remove convex_shell from _points DataFrame\"\"\"\n",
    "    self._points.drop(self.convex_shell, inplace=True, axis=0)\n",
    "    self._points.reset_index(drop=True, inplace=True)\n",
    "    self.convex_shell = []\n",
    "      "
   ]
  },
  {
   "cell_type": "code",
   "execution_count": 168,
   "metadata": {
    "colab": {
     "base_uri": "https://localhost:8080/"
    },
    "id": "WFw6qcII5jE0",
    "outputId": "81f0cf41-e2ac-47d8-92f2-4073d540613f",
    "scrolled": false
   },
   "outputs": [
    {
     "data": {
      "application/vnd.plotly.v1+json": {
       "config": {
        "plotlyServerURL": "https://plot.ly"
       },
       "data": [
        {
         "hovertemplate": "x=%{x}<br>y=%{y}<extra></extra>",
         "legendgroup": "",
         "marker": {
          "color": "#636efa",
          "symbol": "circle"
         },
         "mode": "markers",
         "name": "",
         "orientation": "v",
         "showlegend": false,
         "type": "scatter",
         "x": [
          0.9422594143204496,
          0.8427510941026961,
          0.954303258135226,
          0.6211178125559711,
          0.9609082641968537,
          0.6665922182994367,
          0.32293229963004955,
          0.7610862663461894,
          0.12405247657873297,
          0.2546458251653728,
          0.6290828506309873,
          0.5748857639015444,
          0.46886592590858345,
          0.808622799348006,
          0.1335871882239199,
          0.06748199728914428,
          0.8258302794433144,
          0.019613927250545338,
          0.66865636979177,
          0.22786478488566242,
          0.9125566578586272,
          0.10322554133354056,
          0.8622794013718388,
          0.10039900965410198,
          0.7169675242280757,
          0.17140597905984212,
          0.9022819675697298,
          0.5358184259564881,
          0.46124938262533954,
          0.3850173656917869,
          0.02114148123109727,
          0.8687873778688122,
          0.4398170652472623,
          0.8587056865768913,
          0.7206433436361043,
          0.6627550873156594,
          0.8370195164829839,
          0.16612477774404988,
          0.32647527156340717,
          0.9809001191034681,
          0.010781070650868863,
          0.7605055787563479,
          0.671930021513231,
          0.05506938789300575,
          0.3826748560327987,
          0.9022854764739698,
          0.9936114194724729,
          0.9616215912720392,
          0.6692157768094852,
          0.9676669334916524,
          0.612355340513355,
          0.9410487824869533,
          0.42489454005895566,
          0.5744494404718928,
          0.3515644635926788,
          0.9760355602638013,
          0.4870105836857649,
          0.5180033896095525,
          0.7943839147087092,
          0.20249721599113268,
          0.6551759728583745,
          0.6805393165637605,
          0.8853001971559074,
          0.09152886579822439,
          0.6337951834980362,
          0.6401994417344166,
          0.9079817813062806,
          0.42947312049027364,
          0.3729356923102425,
          0.8712680424371356,
          0.41626690151539525,
          0.4068942542810018,
          0.842869672996743,
          0.23513096754416518,
          0.01963329927135049,
          0.023365868170421855,
          0.3175685198758421,
          0.32746873417376976,
          0.5548755371814472,
          0.07525299854193912,
          0.07897817678243546,
          0.9049409504411553,
          0.13626757845969784,
          0.9574057011988995,
          0.7375502118460435,
          0.22506566746293988,
          0.06227357590829452,
          0.3769710614702776,
          0.03900252095686185,
          0.32186801246695085,
          0.539257918164118,
          0.006389014202722643,
          0.7265795489972764,
          0.38869756112530285,
          0.06875701765554376,
          0.7007180824445037,
          0.2582498999623477,
          0.7342043336780899,
          0.33710110546452854,
          0.7043715990505116
         ],
         "xaxis": "x",
         "y": [
          0.5238272762259208,
          0.27405340346763774,
          0.11207415240437113,
          0.32448146008321765,
          0.503714126199187,
          0.33977248204932886,
          0.19299051864677141,
          0.049414460941872185,
          0.3050969962385214,
          0.1950126646041841,
          0.30855162160117,
          0.31876595281559694,
          0.5421750786740461,
          0.9759580236144055,
          0.6762254319937576,
          0.6840359226393032,
          0.32368394906537556,
          0.5162317739927325,
          0.43797717414739434,
          0.904472742691613,
          0.35343415504281217,
          0.1233132770076737,
          0.5532984298703342,
          0.5245996156053504,
          0.02850119047817612,
          0.6829572379548524,
          0.36525700667433403,
          0.21315808687602533,
          0.38178306059684575,
          0.184582049157604,
          0.16472043407672976,
          0.9484063686547672,
          0.9527051895724143,
          0.6533206969806452,
          0.39933463312718454,
          0.4944871887718172,
          0.38623154496761947,
          0.3949336021678592,
          0.26718991178851226,
          0.28728799545074446,
          0.5203939714847842,
          0.13740108385947192,
          0.22700952433850197,
          0.10691989442686511,
          0.05158412850986982,
          0.6312506169066063,
          0.5376167755959942,
          0.8569604315358703,
          0.04613665893836072,
          0.8379815372457874,
          0.25591125004920434,
          0.35658898824774954,
          0.4036961928735938,
          0.7767206123679764,
          0.5541043184805382,
          0.5879368586717152,
          0.05876768206150795,
          0.19276166149330953,
          0.7716220024689124,
          0.08157043913464146,
          0.6520450156291121,
          0.7017529370653423,
          0.9767971289298173,
          0.8532832271274547,
          0.8825170053880634,
          0.3736460134409124,
          0.612862251162384,
          0.28245375305222997,
          0.06047585376328313,
          0.414607185269245,
          0.1441245747355241,
          0.7074233361477301,
          0.4700296901623323,
          0.3240354760612152,
          0.7454790352273496,
          0.5967824932301063,
          0.9660026080522889,
          0.6040657767130128,
          0.026070087538762943,
          0.18355272394220568,
          0.1649446976366289,
          0.8480440238387694,
          0.08940367024499463,
          0.6617572640936975,
          0.0061300918562052775,
          0.9333376834371719,
          0.2766858168367995,
          0.9363346668924455,
          0.017999338808512344,
          0.6311300074383459,
          0.718282883236995,
          0.7377705155305592,
          0.6406116593041793,
          0.04830773048957071,
          0.6919849320796214,
          0.4241952387227582,
          0.17378640955668923,
          0.11674358244395544,
          0.884225046700605,
          0.3009723506203482
         ],
         "yaxis": "y"
        },
        {
         "hovertemplate": "x=%{x}<br>y=%{y}<extra></extra>",
         "legendgroup": "",
         "line": {
          "color": "#636efa",
          "dash": "solid"
         },
         "marker": {
          "symbol": "circle"
         },
         "mode": "lines",
         "name": "",
         "orientation": "v",
         "showlegend": false,
         "type": "scatter",
         "x": [
          0.7375502118460435,
          0.954303258135226,
          0.9809001191034681,
          0.9936114194724729,
          0.9676669334916524,
          0.9616215912720392,
          0.8853001971559074,
          0.808622799348006,
          0.3175685198758421,
          0.22506566746293988,
          0.09152886579822439,
          0.006389014202722643,
          0.010781070650868863,
          0.02114148123109727,
          0.03900252095686185,
          0.7375502118460435
         ],
         "xaxis": "x",
         "y": [
          0.0061300918562052775,
          0.11207415240437113,
          0.28728799545074446,
          0.5376167755959942,
          0.8379815372457874,
          0.8569604315358703,
          0.9767971289298173,
          0.9759580236144055,
          0.9660026080522889,
          0.9333376834371719,
          0.8532832271274547,
          0.7377705155305592,
          0.5203939714847842,
          0.16472043407672976,
          0.017999338808512344,
          0.0061300918562052775
         ],
         "yaxis": "y"
        },
        {
         "hovertemplate": "x=%{x}<br>y=%{y}<extra></extra>",
         "legendgroup": "",
         "line": {
          "color": "#636efa",
          "dash": "solid"
         },
         "marker": {
          "symbol": "circle"
         },
         "mode": "lines",
         "name": "",
         "orientation": "v",
         "showlegend": false,
         "type": "scatter",
         "x": [
          0.5548755371814472,
          0.7169675242280757,
          0.7610862663461894,
          0.9410487824869533,
          0.9760355602638013,
          0.9574057011988995,
          0.9049409504411553,
          0.8687873778688122,
          0.4398170652472623,
          0.22786478488566242,
          0.01963329927135049,
          0.019613927250545338,
          0.05506938789300575,
          0.13626757845969784,
          0.38869756112530285,
          0.5548755371814472
         ],
         "xaxis": "x",
         "y": [
          0.026070087538762943,
          0.02850119047817612,
          0.049414460941872185,
          0.35658898824774954,
          0.5879368586717152,
          0.6617572640936975,
          0.8480440238387694,
          0.9484063686547672,
          0.9527051895724143,
          0.904472742691613,
          0.7454790352273496,
          0.5162317739927325,
          0.10691989442686511,
          0.08940367024499463,
          0.04830773048957071,
          0.026070087538762943
         ],
         "yaxis": "y"
        },
        {
         "hovertemplate": "x=%{x}<br>y=%{y}<extra></extra>",
         "legendgroup": "",
         "line": {
          "color": "#636efa",
          "dash": "solid"
         },
         "marker": {
          "symbol": "circle"
         },
         "mode": "lines",
         "name": "",
         "orientation": "v",
         "showlegend": false,
         "type": "scatter",
         "x": [
          0.6692157768094852,
          0.7605055787563479,
          0.9125566578586272,
          0.9609082641968537,
          0.9022854764739698,
          0.7943839147087092,
          0.6337951834980362,
          0.3769710614702776,
          0.06875701765554376,
          0.023365868170421855,
          0.06227357590829452,
          0.07525299854193912,
          0.07897817678243546,
          0.10322554133354056,
          0.20249721599113268,
          0.3826748560327987,
          0.6692157768094852
         ],
         "xaxis": "x",
         "y": [
          0.04613665893836072,
          0.13740108385947192,
          0.35343415504281217,
          0.503714126199187,
          0.6312506169066063,
          0.7716220024689124,
          0.8825170053880634,
          0.9363346668924455,
          0.6919849320796214,
          0.5967824932301063,
          0.2766858168367995,
          0.18355272394220568,
          0.1649446976366289,
          0.1233132770076737,
          0.08157043913464146,
          0.05158412850986982,
          0.04613665893836072
         ],
         "yaxis": "y"
        },
        {
         "hovertemplate": "x=%{x}<br>y=%{y}<extra></extra>",
         "legendgroup": "",
         "line": {
          "color": "#636efa",
          "dash": "solid"
         },
         "marker": {
          "symbol": "circle"
         },
         "mode": "lines",
         "name": "",
         "orientation": "v",
         "showlegend": false,
         "type": "scatter",
         "x": [
          0.4870105836857649,
          0.7342043336780899,
          0.8427510941026961,
          0.9022819675697298,
          0.9422594143204496,
          0.9079817813062806,
          0.8587056865768913,
          0.33710110546452854,
          0.06748199728914428,
          0.12405247657873297,
          0.3729356923102425,
          0.4870105836857649
         ],
         "xaxis": "x",
         "y": [
          0.05876768206150795,
          0.11674358244395544,
          0.27405340346763774,
          0.36525700667433403,
          0.5238272762259208,
          0.612862251162384,
          0.6533206969806452,
          0.884225046700605,
          0.6840359226393032,
          0.3050969962385214,
          0.06047585376328313,
          0.05876768206150795
         ],
         "yaxis": "y"
        },
        {
         "hovertemplate": "x=%{x}<br>y=%{y}<extra></extra>",
         "legendgroup": "",
         "line": {
          "color": "#636efa",
          "dash": "solid"
         },
         "marker": {
          "symbol": "circle"
         },
         "mode": "lines",
         "name": "",
         "orientation": "v",
         "showlegend": false,
         "type": "scatter",
         "x": [
          0.41626690151539525,
          0.671930021513231,
          0.8258302794433144,
          0.8712680424371356,
          0.8622794013718388,
          0.6805393165637605,
          0.5744494404718928,
          0.1335871882239199,
          0.10039900965410198,
          0.2582498999623477,
          0.41626690151539525
         ],
         "xaxis": "x",
         "y": [
          0.1441245747355241,
          0.22700952433850197,
          0.32368394906537556,
          0.414607185269245,
          0.5532984298703342,
          0.7017529370653423,
          0.7767206123679764,
          0.6762254319937576,
          0.5245996156053504,
          0.17378640955668923,
          0.1441245747355241
         ],
         "yaxis": "y"
        },
        {
         "hovertemplate": "x=%{x}<br>y=%{y}<extra></extra>",
         "legendgroup": "",
         "line": {
          "color": "#636efa",
          "dash": "solid"
         },
         "marker": {
          "symbol": "circle"
         },
         "mode": "lines",
         "name": "",
         "orientation": "v",
         "showlegend": false,
         "type": "scatter",
         "x": [
          0.3850173656917869,
          0.5180033896095525,
          0.7043715990505116,
          0.8370195164829839,
          0.842869672996743,
          0.7265795489972764,
          0.539257918164118,
          0.4068942542810018,
          0.17140597905984212,
          0.16612477774404988,
          0.2546458251653728,
          0.3850173656917869
         ],
         "xaxis": "x",
         "y": [
          0.184582049157604,
          0.19276166149330953,
          0.3009723506203482,
          0.38623154496761947,
          0.4700296901623323,
          0.6406116593041793,
          0.718282883236995,
          0.7074233361477301,
          0.6829572379548524,
          0.3949336021678592,
          0.1950126646041841,
          0.184582049157604
         ],
         "yaxis": "y"
        },
        {
         "hovertemplate": "x=%{x}<br>y=%{y}<extra></extra>",
         "legendgroup": "",
         "line": {
          "color": "#636efa",
          "dash": "solid"
         },
         "marker": {
          "symbol": "circle"
         },
         "mode": "lines",
         "name": "",
         "orientation": "v",
         "showlegend": false,
         "type": "scatter",
         "x": [
          0.32293229963004955,
          0.5358184259564881,
          0.612355340513355,
          0.7206433436361043,
          0.6551759728583745,
          0.32186801246695085,
          0.23513096754416518,
          0.32293229963004955
         ],
         "xaxis": "x",
         "y": [
          0.19299051864677141,
          0.21315808687602533,
          0.25591125004920434,
          0.39933463312718454,
          0.6520450156291121,
          0.6311300074383459,
          0.3240354760612152,
          0.19299051864677141
         ],
         "yaxis": "y"
        },
        {
         "hovertemplate": "x=%{x}<br>y=%{y}<extra></extra>",
         "legendgroup": "",
         "line": {
          "color": "#636efa",
          "dash": "solid"
         },
         "marker": {
          "symbol": "circle"
         },
         "mode": "lines",
         "name": "",
         "orientation": "v",
         "showlegend": false,
         "type": "scatter",
         "x": [
          0.32647527156340717,
          0.6290828506309873,
          0.6665922182994367,
          0.7007180824445037,
          0.6627550873156594,
          0.32746873417376976,
          0.32647527156340717
         ],
         "xaxis": "x",
         "y": [
          0.26718991178851226,
          0.30855162160117,
          0.33977248204932886,
          0.4241952387227582,
          0.4944871887718172,
          0.6040657767130128,
          0.26718991178851226
         ],
         "yaxis": "y"
        },
        {
         "hovertemplate": "x=%{x}<br>y=%{y}<extra></extra>",
         "legendgroup": "",
         "line": {
          "color": "#636efa",
          "dash": "solid"
         },
         "marker": {
          "symbol": "circle"
         },
         "mode": "lines",
         "name": "",
         "orientation": "v",
         "showlegend": false,
         "type": "scatter",
         "x": [
          0.42947312049027364,
          0.6211178125559711,
          0.66865636979177,
          0.46886592590858345,
          0.3515644635926788,
          0.42947312049027364
         ],
         "xaxis": "x",
         "y": [
          0.28245375305222997,
          0.32448146008321765,
          0.43797717414739434,
          0.5421750786740461,
          0.5541043184805382,
          0.28245375305222997
         ],
         "yaxis": "y"
        },
        {
         "hovertemplate": "x=%{x}<br>y=%{y}<extra></extra>",
         "legendgroup": "",
         "line": {
          "color": "#636efa",
          "dash": "solid"
         },
         "marker": {
          "symbol": "circle"
         },
         "mode": "lines",
         "name": "",
         "orientation": "v",
         "showlegend": false,
         "type": "scatter",
         "x": [
          0.5748857639015444,
          0.6401994417344166,
          0.42489454005895566,
          0.46124938262533954,
          0.5748857639015444
         ],
         "xaxis": "x",
         "y": [
          0.31876595281559694,
          0.3736460134409124,
          0.4036961928735938,
          0.38178306059684575,
          0.31876595281559694
         ],
         "yaxis": "y"
        }
       ],
       "layout": {
        "template": {
         "data": {
          "bar": [
           {
            "error_x": {
             "color": "#2a3f5f"
            },
            "error_y": {
             "color": "#2a3f5f"
            },
            "marker": {
             "line": {
              "color": "#E5ECF6",
              "width": 0.5
             },
             "pattern": {
              "fillmode": "overlay",
              "size": 10,
              "solidity": 0.2
             }
            },
            "type": "bar"
           }
          ],
          "barpolar": [
           {
            "marker": {
             "line": {
              "color": "#E5ECF6",
              "width": 0.5
             },
             "pattern": {
              "fillmode": "overlay",
              "size": 10,
              "solidity": 0.2
             }
            },
            "type": "barpolar"
           }
          ],
          "carpet": [
           {
            "aaxis": {
             "endlinecolor": "#2a3f5f",
             "gridcolor": "white",
             "linecolor": "white",
             "minorgridcolor": "white",
             "startlinecolor": "#2a3f5f"
            },
            "baxis": {
             "endlinecolor": "#2a3f5f",
             "gridcolor": "white",
             "linecolor": "white",
             "minorgridcolor": "white",
             "startlinecolor": "#2a3f5f"
            },
            "type": "carpet"
           }
          ],
          "choropleth": [
           {
            "colorbar": {
             "outlinewidth": 0,
             "ticks": ""
            },
            "type": "choropleth"
           }
          ],
          "contour": [
           {
            "colorbar": {
             "outlinewidth": 0,
             "ticks": ""
            },
            "colorscale": [
             [
              0,
              "#0d0887"
             ],
             [
              0.1111111111111111,
              "#46039f"
             ],
             [
              0.2222222222222222,
              "#7201a8"
             ],
             [
              0.3333333333333333,
              "#9c179e"
             ],
             [
              0.4444444444444444,
              "#bd3786"
             ],
             [
              0.5555555555555556,
              "#d8576b"
             ],
             [
              0.6666666666666666,
              "#ed7953"
             ],
             [
              0.7777777777777778,
              "#fb9f3a"
             ],
             [
              0.8888888888888888,
              "#fdca26"
             ],
             [
              1,
              "#f0f921"
             ]
            ],
            "type": "contour"
           }
          ],
          "contourcarpet": [
           {
            "colorbar": {
             "outlinewidth": 0,
             "ticks": ""
            },
            "type": "contourcarpet"
           }
          ],
          "heatmap": [
           {
            "colorbar": {
             "outlinewidth": 0,
             "ticks": ""
            },
            "colorscale": [
             [
              0,
              "#0d0887"
             ],
             [
              0.1111111111111111,
              "#46039f"
             ],
             [
              0.2222222222222222,
              "#7201a8"
             ],
             [
              0.3333333333333333,
              "#9c179e"
             ],
             [
              0.4444444444444444,
              "#bd3786"
             ],
             [
              0.5555555555555556,
              "#d8576b"
             ],
             [
              0.6666666666666666,
              "#ed7953"
             ],
             [
              0.7777777777777778,
              "#fb9f3a"
             ],
             [
              0.8888888888888888,
              "#fdca26"
             ],
             [
              1,
              "#f0f921"
             ]
            ],
            "type": "heatmap"
           }
          ],
          "heatmapgl": [
           {
            "colorbar": {
             "outlinewidth": 0,
             "ticks": ""
            },
            "colorscale": [
             [
              0,
              "#0d0887"
             ],
             [
              0.1111111111111111,
              "#46039f"
             ],
             [
              0.2222222222222222,
              "#7201a8"
             ],
             [
              0.3333333333333333,
              "#9c179e"
             ],
             [
              0.4444444444444444,
              "#bd3786"
             ],
             [
              0.5555555555555556,
              "#d8576b"
             ],
             [
              0.6666666666666666,
              "#ed7953"
             ],
             [
              0.7777777777777778,
              "#fb9f3a"
             ],
             [
              0.8888888888888888,
              "#fdca26"
             ],
             [
              1,
              "#f0f921"
             ]
            ],
            "type": "heatmapgl"
           }
          ],
          "histogram": [
           {
            "marker": {
             "pattern": {
              "fillmode": "overlay",
              "size": 10,
              "solidity": 0.2
             }
            },
            "type": "histogram"
           }
          ],
          "histogram2d": [
           {
            "colorbar": {
             "outlinewidth": 0,
             "ticks": ""
            },
            "colorscale": [
             [
              0,
              "#0d0887"
             ],
             [
              0.1111111111111111,
              "#46039f"
             ],
             [
              0.2222222222222222,
              "#7201a8"
             ],
             [
              0.3333333333333333,
              "#9c179e"
             ],
             [
              0.4444444444444444,
              "#bd3786"
             ],
             [
              0.5555555555555556,
              "#d8576b"
             ],
             [
              0.6666666666666666,
              "#ed7953"
             ],
             [
              0.7777777777777778,
              "#fb9f3a"
             ],
             [
              0.8888888888888888,
              "#fdca26"
             ],
             [
              1,
              "#f0f921"
             ]
            ],
            "type": "histogram2d"
           }
          ],
          "histogram2dcontour": [
           {
            "colorbar": {
             "outlinewidth": 0,
             "ticks": ""
            },
            "colorscale": [
             [
              0,
              "#0d0887"
             ],
             [
              0.1111111111111111,
              "#46039f"
             ],
             [
              0.2222222222222222,
              "#7201a8"
             ],
             [
              0.3333333333333333,
              "#9c179e"
             ],
             [
              0.4444444444444444,
              "#bd3786"
             ],
             [
              0.5555555555555556,
              "#d8576b"
             ],
             [
              0.6666666666666666,
              "#ed7953"
             ],
             [
              0.7777777777777778,
              "#fb9f3a"
             ],
             [
              0.8888888888888888,
              "#fdca26"
             ],
             [
              1,
              "#f0f921"
             ]
            ],
            "type": "histogram2dcontour"
           }
          ],
          "mesh3d": [
           {
            "colorbar": {
             "outlinewidth": 0,
             "ticks": ""
            },
            "type": "mesh3d"
           }
          ],
          "parcoords": [
           {
            "line": {
             "colorbar": {
              "outlinewidth": 0,
              "ticks": ""
             }
            },
            "type": "parcoords"
           }
          ],
          "pie": [
           {
            "automargin": true,
            "type": "pie"
           }
          ],
          "scatter": [
           {
            "marker": {
             "colorbar": {
              "outlinewidth": 0,
              "ticks": ""
             }
            },
            "type": "scatter"
           }
          ],
          "scatter3d": [
           {
            "line": {
             "colorbar": {
              "outlinewidth": 0,
              "ticks": ""
             }
            },
            "marker": {
             "colorbar": {
              "outlinewidth": 0,
              "ticks": ""
             }
            },
            "type": "scatter3d"
           }
          ],
          "scattercarpet": [
           {
            "marker": {
             "colorbar": {
              "outlinewidth": 0,
              "ticks": ""
             }
            },
            "type": "scattercarpet"
           }
          ],
          "scattergeo": [
           {
            "marker": {
             "colorbar": {
              "outlinewidth": 0,
              "ticks": ""
             }
            },
            "type": "scattergeo"
           }
          ],
          "scattergl": [
           {
            "marker": {
             "colorbar": {
              "outlinewidth": 0,
              "ticks": ""
             }
            },
            "type": "scattergl"
           }
          ],
          "scattermapbox": [
           {
            "marker": {
             "colorbar": {
              "outlinewidth": 0,
              "ticks": ""
             }
            },
            "type": "scattermapbox"
           }
          ],
          "scatterpolar": [
           {
            "marker": {
             "colorbar": {
              "outlinewidth": 0,
              "ticks": ""
             }
            },
            "type": "scatterpolar"
           }
          ],
          "scatterpolargl": [
           {
            "marker": {
             "colorbar": {
              "outlinewidth": 0,
              "ticks": ""
             }
            },
            "type": "scatterpolargl"
           }
          ],
          "scatterternary": [
           {
            "marker": {
             "colorbar": {
              "outlinewidth": 0,
              "ticks": ""
             }
            },
            "type": "scatterternary"
           }
          ],
          "surface": [
           {
            "colorbar": {
             "outlinewidth": 0,
             "ticks": ""
            },
            "colorscale": [
             [
              0,
              "#0d0887"
             ],
             [
              0.1111111111111111,
              "#46039f"
             ],
             [
              0.2222222222222222,
              "#7201a8"
             ],
             [
              0.3333333333333333,
              "#9c179e"
             ],
             [
              0.4444444444444444,
              "#bd3786"
             ],
             [
              0.5555555555555556,
              "#d8576b"
             ],
             [
              0.6666666666666666,
              "#ed7953"
             ],
             [
              0.7777777777777778,
              "#fb9f3a"
             ],
             [
              0.8888888888888888,
              "#fdca26"
             ],
             [
              1,
              "#f0f921"
             ]
            ],
            "type": "surface"
           }
          ],
          "table": [
           {
            "cells": {
             "fill": {
              "color": "#EBF0F8"
             },
             "line": {
              "color": "white"
             }
            },
            "header": {
             "fill": {
              "color": "#C8D4E3"
             },
             "line": {
              "color": "white"
             }
            },
            "type": "table"
           }
          ]
         },
         "layout": {
          "annotationdefaults": {
           "arrowcolor": "#2a3f5f",
           "arrowhead": 0,
           "arrowwidth": 1
          },
          "autotypenumbers": "strict",
          "coloraxis": {
           "colorbar": {
            "outlinewidth": 0,
            "ticks": ""
           }
          },
          "colorscale": {
           "diverging": [
            [
             0,
             "#8e0152"
            ],
            [
             0.1,
             "#c51b7d"
            ],
            [
             0.2,
             "#de77ae"
            ],
            [
             0.3,
             "#f1b6da"
            ],
            [
             0.4,
             "#fde0ef"
            ],
            [
             0.5,
             "#f7f7f7"
            ],
            [
             0.6,
             "#e6f5d0"
            ],
            [
             0.7,
             "#b8e186"
            ],
            [
             0.8,
             "#7fbc41"
            ],
            [
             0.9,
             "#4d9221"
            ],
            [
             1,
             "#276419"
            ]
           ],
           "sequential": [
            [
             0,
             "#0d0887"
            ],
            [
             0.1111111111111111,
             "#46039f"
            ],
            [
             0.2222222222222222,
             "#7201a8"
            ],
            [
             0.3333333333333333,
             "#9c179e"
            ],
            [
             0.4444444444444444,
             "#bd3786"
            ],
            [
             0.5555555555555556,
             "#d8576b"
            ],
            [
             0.6666666666666666,
             "#ed7953"
            ],
            [
             0.7777777777777778,
             "#fb9f3a"
            ],
            [
             0.8888888888888888,
             "#fdca26"
            ],
            [
             1,
             "#f0f921"
            ]
           ],
           "sequentialminus": [
            [
             0,
             "#0d0887"
            ],
            [
             0.1111111111111111,
             "#46039f"
            ],
            [
             0.2222222222222222,
             "#7201a8"
            ],
            [
             0.3333333333333333,
             "#9c179e"
            ],
            [
             0.4444444444444444,
             "#bd3786"
            ],
            [
             0.5555555555555556,
             "#d8576b"
            ],
            [
             0.6666666666666666,
             "#ed7953"
            ],
            [
             0.7777777777777778,
             "#fb9f3a"
            ],
            [
             0.8888888888888888,
             "#fdca26"
            ],
            [
             1,
             "#f0f921"
            ]
           ]
          },
          "colorway": [
           "#636efa",
           "#EF553B",
           "#00cc96",
           "#ab63fa",
           "#FFA15A",
           "#19d3f3",
           "#FF6692",
           "#B6E880",
           "#FF97FF",
           "#FECB52"
          ],
          "font": {
           "color": "#2a3f5f"
          },
          "geo": {
           "bgcolor": "white",
           "lakecolor": "white",
           "landcolor": "#E5ECF6",
           "showlakes": true,
           "showland": true,
           "subunitcolor": "white"
          },
          "hoverlabel": {
           "align": "left"
          },
          "hovermode": "closest",
          "mapbox": {
           "style": "light"
          },
          "paper_bgcolor": "white",
          "plot_bgcolor": "#E5ECF6",
          "polar": {
           "angularaxis": {
            "gridcolor": "white",
            "linecolor": "white",
            "ticks": ""
           },
           "bgcolor": "#E5ECF6",
           "radialaxis": {
            "gridcolor": "white",
            "linecolor": "white",
            "ticks": ""
           }
          },
          "scene": {
           "xaxis": {
            "backgroundcolor": "#E5ECF6",
            "gridcolor": "white",
            "gridwidth": 2,
            "linecolor": "white",
            "showbackground": true,
            "ticks": "",
            "zerolinecolor": "white"
           },
           "yaxis": {
            "backgroundcolor": "#E5ECF6",
            "gridcolor": "white",
            "gridwidth": 2,
            "linecolor": "white",
            "showbackground": true,
            "ticks": "",
            "zerolinecolor": "white"
           },
           "zaxis": {
            "backgroundcolor": "#E5ECF6",
            "gridcolor": "white",
            "gridwidth": 2,
            "linecolor": "white",
            "showbackground": true,
            "ticks": "",
            "zerolinecolor": "white"
           }
          },
          "shapedefaults": {
           "line": {
            "color": "#2a3f5f"
           }
          },
          "ternary": {
           "aaxis": {
            "gridcolor": "white",
            "linecolor": "white",
            "ticks": ""
           },
           "baxis": {
            "gridcolor": "white",
            "linecolor": "white",
            "ticks": ""
           },
           "bgcolor": "#E5ECF6",
           "caxis": {
            "gridcolor": "white",
            "linecolor": "white",
            "ticks": ""
           }
          },
          "title": {
           "x": 0.05
          },
          "xaxis": {
           "automargin": true,
           "gridcolor": "white",
           "linecolor": "white",
           "ticks": "",
           "title": {
            "standoff": 15
           },
           "zerolinecolor": "white",
           "zerolinewidth": 2
          },
          "yaxis": {
           "automargin": true,
           "gridcolor": "white",
           "linecolor": "white",
           "ticks": "",
           "title": {
            "standoff": 15
           },
           "zerolinecolor": "white",
           "zerolinewidth": 2
          }
         }
        }
       }
      },
      "text/html": [
       "<div>                            <div id=\"eb49aff3-1419-44a1-b86a-805da75715cc\" class=\"plotly-graph-div\" style=\"height:525px; width:100%;\"></div>            <script type=\"text/javascript\">                require([\"plotly\"], function(Plotly) {                    window.PLOTLYENV=window.PLOTLYENV || {};                                    if (document.getElementById(\"eb49aff3-1419-44a1-b86a-805da75715cc\")) {                    Plotly.newPlot(                        \"eb49aff3-1419-44a1-b86a-805da75715cc\",                        [{\"hovertemplate\":\"x=%{x}<br>y=%{y}<extra></extra>\",\"legendgroup\":\"\",\"marker\":{\"color\":\"#636efa\",\"symbol\":\"circle\"},\"mode\":\"markers\",\"name\":\"\",\"orientation\":\"v\",\"showlegend\":false,\"x\":[0.9422594143204496,0.8427510941026961,0.954303258135226,0.6211178125559711,0.9609082641968537,0.6665922182994367,0.32293229963004955,0.7610862663461894,0.12405247657873297,0.2546458251653728,0.6290828506309873,0.5748857639015444,0.46886592590858345,0.808622799348006,0.1335871882239199,0.06748199728914428,0.8258302794433144,0.019613927250545338,0.66865636979177,0.22786478488566242,0.9125566578586272,0.10322554133354056,0.8622794013718388,0.10039900965410198,0.7169675242280757,0.17140597905984212,0.9022819675697298,0.5358184259564881,0.46124938262533954,0.3850173656917869,0.02114148123109727,0.8687873778688122,0.4398170652472623,0.8587056865768913,0.7206433436361043,0.6627550873156594,0.8370195164829839,0.16612477774404988,0.32647527156340717,0.9809001191034681,0.010781070650868863,0.7605055787563479,0.671930021513231,0.05506938789300575,0.3826748560327987,0.9022854764739698,0.9936114194724729,0.9616215912720392,0.6692157768094852,0.9676669334916524,0.612355340513355,0.9410487824869533,0.42489454005895566,0.5744494404718928,0.3515644635926788,0.9760355602638013,0.4870105836857649,0.5180033896095525,0.7943839147087092,0.20249721599113268,0.6551759728583745,0.6805393165637605,0.8853001971559074,0.09152886579822439,0.6337951834980362,0.6401994417344166,0.9079817813062806,0.42947312049027364,0.3729356923102425,0.8712680424371356,0.41626690151539525,0.4068942542810018,0.842869672996743,0.23513096754416518,0.01963329927135049,0.023365868170421855,0.3175685198758421,0.32746873417376976,0.5548755371814472,0.07525299854193912,0.07897817678243546,0.9049409504411553,0.13626757845969784,0.9574057011988995,0.7375502118460435,0.22506566746293988,0.06227357590829452,0.3769710614702776,0.03900252095686185,0.32186801246695085,0.539257918164118,0.006389014202722643,0.7265795489972764,0.38869756112530285,0.06875701765554376,0.7007180824445037,0.2582498999623477,0.7342043336780899,0.33710110546452854,0.7043715990505116],\"xaxis\":\"x\",\"y\":[0.5238272762259208,0.27405340346763774,0.11207415240437113,0.32448146008321765,0.503714126199187,0.33977248204932886,0.19299051864677141,0.049414460941872185,0.3050969962385214,0.1950126646041841,0.30855162160117,0.31876595281559694,0.5421750786740461,0.9759580236144055,0.6762254319937576,0.6840359226393032,0.32368394906537556,0.5162317739927325,0.43797717414739434,0.904472742691613,0.35343415504281217,0.1233132770076737,0.5532984298703342,0.5245996156053504,0.02850119047817612,0.6829572379548524,0.36525700667433403,0.21315808687602533,0.38178306059684575,0.184582049157604,0.16472043407672976,0.9484063686547672,0.9527051895724143,0.6533206969806452,0.39933463312718454,0.4944871887718172,0.38623154496761947,0.3949336021678592,0.26718991178851226,0.28728799545074446,0.5203939714847842,0.13740108385947192,0.22700952433850197,0.10691989442686511,0.05158412850986982,0.6312506169066063,0.5376167755959942,0.8569604315358703,0.04613665893836072,0.8379815372457874,0.25591125004920434,0.35658898824774954,0.4036961928735938,0.7767206123679764,0.5541043184805382,0.5879368586717152,0.05876768206150795,0.19276166149330953,0.7716220024689124,0.08157043913464146,0.6520450156291121,0.7017529370653423,0.9767971289298173,0.8532832271274547,0.8825170053880634,0.3736460134409124,0.612862251162384,0.28245375305222997,0.06047585376328313,0.414607185269245,0.1441245747355241,0.7074233361477301,0.4700296901623323,0.3240354760612152,0.7454790352273496,0.5967824932301063,0.9660026080522889,0.6040657767130128,0.026070087538762943,0.18355272394220568,0.1649446976366289,0.8480440238387694,0.08940367024499463,0.6617572640936975,0.0061300918562052775,0.9333376834371719,0.2766858168367995,0.9363346668924455,0.017999338808512344,0.6311300074383459,0.718282883236995,0.7377705155305592,0.6406116593041793,0.04830773048957071,0.6919849320796214,0.4241952387227582,0.17378640955668923,0.11674358244395544,0.884225046700605,0.3009723506203482],\"yaxis\":\"y\",\"type\":\"scatter\"},{\"hovertemplate\":\"x=%{x}<br>y=%{y}<extra></extra>\",\"legendgroup\":\"\",\"line\":{\"color\":\"#636efa\",\"dash\":\"solid\"},\"marker\":{\"symbol\":\"circle\"},\"mode\":\"lines\",\"name\":\"\",\"orientation\":\"v\",\"showlegend\":false,\"x\":[0.7375502118460435,0.954303258135226,0.9809001191034681,0.9936114194724729,0.9676669334916524,0.9616215912720392,0.8853001971559074,0.808622799348006,0.3175685198758421,0.22506566746293988,0.09152886579822439,0.006389014202722643,0.010781070650868863,0.02114148123109727,0.03900252095686185,0.7375502118460435],\"xaxis\":\"x\",\"y\":[0.0061300918562052775,0.11207415240437113,0.28728799545074446,0.5376167755959942,0.8379815372457874,0.8569604315358703,0.9767971289298173,0.9759580236144055,0.9660026080522889,0.9333376834371719,0.8532832271274547,0.7377705155305592,0.5203939714847842,0.16472043407672976,0.017999338808512344,0.0061300918562052775],\"yaxis\":\"y\",\"type\":\"scatter\"},{\"hovertemplate\":\"x=%{x}<br>y=%{y}<extra></extra>\",\"legendgroup\":\"\",\"line\":{\"color\":\"#636efa\",\"dash\":\"solid\"},\"marker\":{\"symbol\":\"circle\"},\"mode\":\"lines\",\"name\":\"\",\"orientation\":\"v\",\"showlegend\":false,\"x\":[0.5548755371814472,0.7169675242280757,0.7610862663461894,0.9410487824869533,0.9760355602638013,0.9574057011988995,0.9049409504411553,0.8687873778688122,0.4398170652472623,0.22786478488566242,0.01963329927135049,0.019613927250545338,0.05506938789300575,0.13626757845969784,0.38869756112530285,0.5548755371814472],\"xaxis\":\"x\",\"y\":[0.026070087538762943,0.02850119047817612,0.049414460941872185,0.35658898824774954,0.5879368586717152,0.6617572640936975,0.8480440238387694,0.9484063686547672,0.9527051895724143,0.904472742691613,0.7454790352273496,0.5162317739927325,0.10691989442686511,0.08940367024499463,0.04830773048957071,0.026070087538762943],\"yaxis\":\"y\",\"type\":\"scatter\"},{\"hovertemplate\":\"x=%{x}<br>y=%{y}<extra></extra>\",\"legendgroup\":\"\",\"line\":{\"color\":\"#636efa\",\"dash\":\"solid\"},\"marker\":{\"symbol\":\"circle\"},\"mode\":\"lines\",\"name\":\"\",\"orientation\":\"v\",\"showlegend\":false,\"x\":[0.6692157768094852,0.7605055787563479,0.9125566578586272,0.9609082641968537,0.9022854764739698,0.7943839147087092,0.6337951834980362,0.3769710614702776,0.06875701765554376,0.023365868170421855,0.06227357590829452,0.07525299854193912,0.07897817678243546,0.10322554133354056,0.20249721599113268,0.3826748560327987,0.6692157768094852],\"xaxis\":\"x\",\"y\":[0.04613665893836072,0.13740108385947192,0.35343415504281217,0.503714126199187,0.6312506169066063,0.7716220024689124,0.8825170053880634,0.9363346668924455,0.6919849320796214,0.5967824932301063,0.2766858168367995,0.18355272394220568,0.1649446976366289,0.1233132770076737,0.08157043913464146,0.05158412850986982,0.04613665893836072],\"yaxis\":\"y\",\"type\":\"scatter\"},{\"hovertemplate\":\"x=%{x}<br>y=%{y}<extra></extra>\",\"legendgroup\":\"\",\"line\":{\"color\":\"#636efa\",\"dash\":\"solid\"},\"marker\":{\"symbol\":\"circle\"},\"mode\":\"lines\",\"name\":\"\",\"orientation\":\"v\",\"showlegend\":false,\"x\":[0.4870105836857649,0.7342043336780899,0.8427510941026961,0.9022819675697298,0.9422594143204496,0.9079817813062806,0.8587056865768913,0.33710110546452854,0.06748199728914428,0.12405247657873297,0.3729356923102425,0.4870105836857649],\"xaxis\":\"x\",\"y\":[0.05876768206150795,0.11674358244395544,0.27405340346763774,0.36525700667433403,0.5238272762259208,0.612862251162384,0.6533206969806452,0.884225046700605,0.6840359226393032,0.3050969962385214,0.06047585376328313,0.05876768206150795],\"yaxis\":\"y\",\"type\":\"scatter\"},{\"hovertemplate\":\"x=%{x}<br>y=%{y}<extra></extra>\",\"legendgroup\":\"\",\"line\":{\"color\":\"#636efa\",\"dash\":\"solid\"},\"marker\":{\"symbol\":\"circle\"},\"mode\":\"lines\",\"name\":\"\",\"orientation\":\"v\",\"showlegend\":false,\"x\":[0.41626690151539525,0.671930021513231,0.8258302794433144,0.8712680424371356,0.8622794013718388,0.6805393165637605,0.5744494404718928,0.1335871882239199,0.10039900965410198,0.2582498999623477,0.41626690151539525],\"xaxis\":\"x\",\"y\":[0.1441245747355241,0.22700952433850197,0.32368394906537556,0.414607185269245,0.5532984298703342,0.7017529370653423,0.7767206123679764,0.6762254319937576,0.5245996156053504,0.17378640955668923,0.1441245747355241],\"yaxis\":\"y\",\"type\":\"scatter\"},{\"hovertemplate\":\"x=%{x}<br>y=%{y}<extra></extra>\",\"legendgroup\":\"\",\"line\":{\"color\":\"#636efa\",\"dash\":\"solid\"},\"marker\":{\"symbol\":\"circle\"},\"mode\":\"lines\",\"name\":\"\",\"orientation\":\"v\",\"showlegend\":false,\"x\":[0.3850173656917869,0.5180033896095525,0.7043715990505116,0.8370195164829839,0.842869672996743,0.7265795489972764,0.539257918164118,0.4068942542810018,0.17140597905984212,0.16612477774404988,0.2546458251653728,0.3850173656917869],\"xaxis\":\"x\",\"y\":[0.184582049157604,0.19276166149330953,0.3009723506203482,0.38623154496761947,0.4700296901623323,0.6406116593041793,0.718282883236995,0.7074233361477301,0.6829572379548524,0.3949336021678592,0.1950126646041841,0.184582049157604],\"yaxis\":\"y\",\"type\":\"scatter\"},{\"hovertemplate\":\"x=%{x}<br>y=%{y}<extra></extra>\",\"legendgroup\":\"\",\"line\":{\"color\":\"#636efa\",\"dash\":\"solid\"},\"marker\":{\"symbol\":\"circle\"},\"mode\":\"lines\",\"name\":\"\",\"orientation\":\"v\",\"showlegend\":false,\"x\":[0.32293229963004955,0.5358184259564881,0.612355340513355,0.7206433436361043,0.6551759728583745,0.32186801246695085,0.23513096754416518,0.32293229963004955],\"xaxis\":\"x\",\"y\":[0.19299051864677141,0.21315808687602533,0.25591125004920434,0.39933463312718454,0.6520450156291121,0.6311300074383459,0.3240354760612152,0.19299051864677141],\"yaxis\":\"y\",\"type\":\"scatter\"},{\"hovertemplate\":\"x=%{x}<br>y=%{y}<extra></extra>\",\"legendgroup\":\"\",\"line\":{\"color\":\"#636efa\",\"dash\":\"solid\"},\"marker\":{\"symbol\":\"circle\"},\"mode\":\"lines\",\"name\":\"\",\"orientation\":\"v\",\"showlegend\":false,\"x\":[0.32647527156340717,0.6290828506309873,0.6665922182994367,0.7007180824445037,0.6627550873156594,0.32746873417376976,0.32647527156340717],\"xaxis\":\"x\",\"y\":[0.26718991178851226,0.30855162160117,0.33977248204932886,0.4241952387227582,0.4944871887718172,0.6040657767130128,0.26718991178851226],\"yaxis\":\"y\",\"type\":\"scatter\"},{\"hovertemplate\":\"x=%{x}<br>y=%{y}<extra></extra>\",\"legendgroup\":\"\",\"line\":{\"color\":\"#636efa\",\"dash\":\"solid\"},\"marker\":{\"symbol\":\"circle\"},\"mode\":\"lines\",\"name\":\"\",\"orientation\":\"v\",\"showlegend\":false,\"x\":[0.42947312049027364,0.6211178125559711,0.66865636979177,0.46886592590858345,0.3515644635926788,0.42947312049027364],\"xaxis\":\"x\",\"y\":[0.28245375305222997,0.32448146008321765,0.43797717414739434,0.5421750786740461,0.5541043184805382,0.28245375305222997],\"yaxis\":\"y\",\"type\":\"scatter\"},{\"hovertemplate\":\"x=%{x}<br>y=%{y}<extra></extra>\",\"legendgroup\":\"\",\"line\":{\"color\":\"#636efa\",\"dash\":\"solid\"},\"marker\":{\"symbol\":\"circle\"},\"mode\":\"lines\",\"name\":\"\",\"orientation\":\"v\",\"showlegend\":false,\"x\":[0.5748857639015444,0.6401994417344166,0.42489454005895566,0.46124938262533954,0.5748857639015444],\"xaxis\":\"x\",\"y\":[0.31876595281559694,0.3736460134409124,0.4036961928735938,0.38178306059684575,0.31876595281559694],\"yaxis\":\"y\",\"type\":\"scatter\"}],                        {\"template\":{\"data\":{\"bar\":[{\"error_x\":{\"color\":\"#2a3f5f\"},\"error_y\":{\"color\":\"#2a3f5f\"},\"marker\":{\"line\":{\"color\":\"#E5ECF6\",\"width\":0.5},\"pattern\":{\"fillmode\":\"overlay\",\"size\":10,\"solidity\":0.2}},\"type\":\"bar\"}],\"barpolar\":[{\"marker\":{\"line\":{\"color\":\"#E5ECF6\",\"width\":0.5},\"pattern\":{\"fillmode\":\"overlay\",\"size\":10,\"solidity\":0.2}},\"type\":\"barpolar\"}],\"carpet\":[{\"aaxis\":{\"endlinecolor\":\"#2a3f5f\",\"gridcolor\":\"white\",\"linecolor\":\"white\",\"minorgridcolor\":\"white\",\"startlinecolor\":\"#2a3f5f\"},\"baxis\":{\"endlinecolor\":\"#2a3f5f\",\"gridcolor\":\"white\",\"linecolor\":\"white\",\"minorgridcolor\":\"white\",\"startlinecolor\":\"#2a3f5f\"},\"type\":\"carpet\"}],\"choropleth\":[{\"colorbar\":{\"outlinewidth\":0,\"ticks\":\"\"},\"type\":\"choropleth\"}],\"contour\":[{\"colorbar\":{\"outlinewidth\":0,\"ticks\":\"\"},\"colorscale\":[[0.0,\"#0d0887\"],[0.1111111111111111,\"#46039f\"],[0.2222222222222222,\"#7201a8\"],[0.3333333333333333,\"#9c179e\"],[0.4444444444444444,\"#bd3786\"],[0.5555555555555556,\"#d8576b\"],[0.6666666666666666,\"#ed7953\"],[0.7777777777777778,\"#fb9f3a\"],[0.8888888888888888,\"#fdca26\"],[1.0,\"#f0f921\"]],\"type\":\"contour\"}],\"contourcarpet\":[{\"colorbar\":{\"outlinewidth\":0,\"ticks\":\"\"},\"type\":\"contourcarpet\"}],\"heatmap\":[{\"colorbar\":{\"outlinewidth\":0,\"ticks\":\"\"},\"colorscale\":[[0.0,\"#0d0887\"],[0.1111111111111111,\"#46039f\"],[0.2222222222222222,\"#7201a8\"],[0.3333333333333333,\"#9c179e\"],[0.4444444444444444,\"#bd3786\"],[0.5555555555555556,\"#d8576b\"],[0.6666666666666666,\"#ed7953\"],[0.7777777777777778,\"#fb9f3a\"],[0.8888888888888888,\"#fdca26\"],[1.0,\"#f0f921\"]],\"type\":\"heatmap\"}],\"heatmapgl\":[{\"colorbar\":{\"outlinewidth\":0,\"ticks\":\"\"},\"colorscale\":[[0.0,\"#0d0887\"],[0.1111111111111111,\"#46039f\"],[0.2222222222222222,\"#7201a8\"],[0.3333333333333333,\"#9c179e\"],[0.4444444444444444,\"#bd3786\"],[0.5555555555555556,\"#d8576b\"],[0.6666666666666666,\"#ed7953\"],[0.7777777777777778,\"#fb9f3a\"],[0.8888888888888888,\"#fdca26\"],[1.0,\"#f0f921\"]],\"type\":\"heatmapgl\"}],\"histogram\":[{\"marker\":{\"pattern\":{\"fillmode\":\"overlay\",\"size\":10,\"solidity\":0.2}},\"type\":\"histogram\"}],\"histogram2d\":[{\"colorbar\":{\"outlinewidth\":0,\"ticks\":\"\"},\"colorscale\":[[0.0,\"#0d0887\"],[0.1111111111111111,\"#46039f\"],[0.2222222222222222,\"#7201a8\"],[0.3333333333333333,\"#9c179e\"],[0.4444444444444444,\"#bd3786\"],[0.5555555555555556,\"#d8576b\"],[0.6666666666666666,\"#ed7953\"],[0.7777777777777778,\"#fb9f3a\"],[0.8888888888888888,\"#fdca26\"],[1.0,\"#f0f921\"]],\"type\":\"histogram2d\"}],\"histogram2dcontour\":[{\"colorbar\":{\"outlinewidth\":0,\"ticks\":\"\"},\"colorscale\":[[0.0,\"#0d0887\"],[0.1111111111111111,\"#46039f\"],[0.2222222222222222,\"#7201a8\"],[0.3333333333333333,\"#9c179e\"],[0.4444444444444444,\"#bd3786\"],[0.5555555555555556,\"#d8576b\"],[0.6666666666666666,\"#ed7953\"],[0.7777777777777778,\"#fb9f3a\"],[0.8888888888888888,\"#fdca26\"],[1.0,\"#f0f921\"]],\"type\":\"histogram2dcontour\"}],\"mesh3d\":[{\"colorbar\":{\"outlinewidth\":0,\"ticks\":\"\"},\"type\":\"mesh3d\"}],\"parcoords\":[{\"line\":{\"colorbar\":{\"outlinewidth\":0,\"ticks\":\"\"}},\"type\":\"parcoords\"}],\"pie\":[{\"automargin\":true,\"type\":\"pie\"}],\"scatter\":[{\"marker\":{\"colorbar\":{\"outlinewidth\":0,\"ticks\":\"\"}},\"type\":\"scatter\"}],\"scatter3d\":[{\"line\":{\"colorbar\":{\"outlinewidth\":0,\"ticks\":\"\"}},\"marker\":{\"colorbar\":{\"outlinewidth\":0,\"ticks\":\"\"}},\"type\":\"scatter3d\"}],\"scattercarpet\":[{\"marker\":{\"colorbar\":{\"outlinewidth\":0,\"ticks\":\"\"}},\"type\":\"scattercarpet\"}],\"scattergeo\":[{\"marker\":{\"colorbar\":{\"outlinewidth\":0,\"ticks\":\"\"}},\"type\":\"scattergeo\"}],\"scattergl\":[{\"marker\":{\"colorbar\":{\"outlinewidth\":0,\"ticks\":\"\"}},\"type\":\"scattergl\"}],\"scattermapbox\":[{\"marker\":{\"colorbar\":{\"outlinewidth\":0,\"ticks\":\"\"}},\"type\":\"scattermapbox\"}],\"scatterpolar\":[{\"marker\":{\"colorbar\":{\"outlinewidth\":0,\"ticks\":\"\"}},\"type\":\"scatterpolar\"}],\"scatterpolargl\":[{\"marker\":{\"colorbar\":{\"outlinewidth\":0,\"ticks\":\"\"}},\"type\":\"scatterpolargl\"}],\"scatterternary\":[{\"marker\":{\"colorbar\":{\"outlinewidth\":0,\"ticks\":\"\"}},\"type\":\"scatterternary\"}],\"surface\":[{\"colorbar\":{\"outlinewidth\":0,\"ticks\":\"\"},\"colorscale\":[[0.0,\"#0d0887\"],[0.1111111111111111,\"#46039f\"],[0.2222222222222222,\"#7201a8\"],[0.3333333333333333,\"#9c179e\"],[0.4444444444444444,\"#bd3786\"],[0.5555555555555556,\"#d8576b\"],[0.6666666666666666,\"#ed7953\"],[0.7777777777777778,\"#fb9f3a\"],[0.8888888888888888,\"#fdca26\"],[1.0,\"#f0f921\"]],\"type\":\"surface\"}],\"table\":[{\"cells\":{\"fill\":{\"color\":\"#EBF0F8\"},\"line\":{\"color\":\"white\"}},\"header\":{\"fill\":{\"color\":\"#C8D4E3\"},\"line\":{\"color\":\"white\"}},\"type\":\"table\"}]},\"layout\":{\"annotationdefaults\":{\"arrowcolor\":\"#2a3f5f\",\"arrowhead\":0,\"arrowwidth\":1},\"autotypenumbers\":\"strict\",\"coloraxis\":{\"colorbar\":{\"outlinewidth\":0,\"ticks\":\"\"}},\"colorscale\":{\"diverging\":[[0,\"#8e0152\"],[0.1,\"#c51b7d\"],[0.2,\"#de77ae\"],[0.3,\"#f1b6da\"],[0.4,\"#fde0ef\"],[0.5,\"#f7f7f7\"],[0.6,\"#e6f5d0\"],[0.7,\"#b8e186\"],[0.8,\"#7fbc41\"],[0.9,\"#4d9221\"],[1,\"#276419\"]],\"sequential\":[[0.0,\"#0d0887\"],[0.1111111111111111,\"#46039f\"],[0.2222222222222222,\"#7201a8\"],[0.3333333333333333,\"#9c179e\"],[0.4444444444444444,\"#bd3786\"],[0.5555555555555556,\"#d8576b\"],[0.6666666666666666,\"#ed7953\"],[0.7777777777777778,\"#fb9f3a\"],[0.8888888888888888,\"#fdca26\"],[1.0,\"#f0f921\"]],\"sequentialminus\":[[0.0,\"#0d0887\"],[0.1111111111111111,\"#46039f\"],[0.2222222222222222,\"#7201a8\"],[0.3333333333333333,\"#9c179e\"],[0.4444444444444444,\"#bd3786\"],[0.5555555555555556,\"#d8576b\"],[0.6666666666666666,\"#ed7953\"],[0.7777777777777778,\"#fb9f3a\"],[0.8888888888888888,\"#fdca26\"],[1.0,\"#f0f921\"]]},\"colorway\":[\"#636efa\",\"#EF553B\",\"#00cc96\",\"#ab63fa\",\"#FFA15A\",\"#19d3f3\",\"#FF6692\",\"#B6E880\",\"#FF97FF\",\"#FECB52\"],\"font\":{\"color\":\"#2a3f5f\"},\"geo\":{\"bgcolor\":\"white\",\"lakecolor\":\"white\",\"landcolor\":\"#E5ECF6\",\"showlakes\":true,\"showland\":true,\"subunitcolor\":\"white\"},\"hoverlabel\":{\"align\":\"left\"},\"hovermode\":\"closest\",\"mapbox\":{\"style\":\"light\"},\"paper_bgcolor\":\"white\",\"plot_bgcolor\":\"#E5ECF6\",\"polar\":{\"angularaxis\":{\"gridcolor\":\"white\",\"linecolor\":\"white\",\"ticks\":\"\"},\"bgcolor\":\"#E5ECF6\",\"radialaxis\":{\"gridcolor\":\"white\",\"linecolor\":\"white\",\"ticks\":\"\"}},\"scene\":{\"xaxis\":{\"backgroundcolor\":\"#E5ECF6\",\"gridcolor\":\"white\",\"gridwidth\":2,\"linecolor\":\"white\",\"showbackground\":true,\"ticks\":\"\",\"zerolinecolor\":\"white\"},\"yaxis\":{\"backgroundcolor\":\"#E5ECF6\",\"gridcolor\":\"white\",\"gridwidth\":2,\"linecolor\":\"white\",\"showbackground\":true,\"ticks\":\"\",\"zerolinecolor\":\"white\"},\"zaxis\":{\"backgroundcolor\":\"#E5ECF6\",\"gridcolor\":\"white\",\"gridwidth\":2,\"linecolor\":\"white\",\"showbackground\":true,\"ticks\":\"\",\"zerolinecolor\":\"white\"}},\"shapedefaults\":{\"line\":{\"color\":\"#2a3f5f\"}},\"ternary\":{\"aaxis\":{\"gridcolor\":\"white\",\"linecolor\":\"white\",\"ticks\":\"\"},\"baxis\":{\"gridcolor\":\"white\",\"linecolor\":\"white\",\"ticks\":\"\"},\"bgcolor\":\"#E5ECF6\",\"caxis\":{\"gridcolor\":\"white\",\"linecolor\":\"white\",\"ticks\":\"\"}},\"title\":{\"x\":0.05},\"xaxis\":{\"automargin\":true,\"gridcolor\":\"white\",\"linecolor\":\"white\",\"ticks\":\"\",\"title\":{\"standoff\":15},\"zerolinecolor\":\"white\",\"zerolinewidth\":2},\"yaxis\":{\"automargin\":true,\"gridcolor\":\"white\",\"linecolor\":\"white\",\"ticks\":\"\",\"title\":{\"standoff\":15},\"zerolinecolor\":\"white\",\"zerolinewidth\":2}}}},                        {\"responsive\": true}                    ).then(function(){\n",
       "                            \n",
       "var gd = document.getElementById('eb49aff3-1419-44a1-b86a-805da75715cc');\n",
       "var x = new MutationObserver(function (mutations, observer) {{\n",
       "        var display = window.getComputedStyle(gd).display;\n",
       "        if (!display || display === 'none') {{\n",
       "            console.log([gd, 'removed!']);\n",
       "            Plotly.purge(gd);\n",
       "            observer.disconnect();\n",
       "        }}\n",
       "}});\n",
       "\n",
       "// Listen for the removal of the full notebook cells\n",
       "var notebookContainer = gd.closest('#notebook-container');\n",
       "if (notebookContainer) {{\n",
       "    x.observe(notebookContainer, {childList: true});\n",
       "}}\n",
       "\n",
       "// Listen for the clearing of the current output cell\n",
       "var outputEl = gd.closest('.output');\n",
       "if (outputEl) {{\n",
       "    x.observe(outputEl, {childList: true});\n",
       "}}\n",
       "\n",
       "                        })                };                });            </script>        </div>"
      ]
     },
     "metadata": {},
     "output_type": "display_data"
    }
   ],
   "source": [
    "box = Box(dimension=2, size=1, distribution='Uniform', points_number=100)\n",
    "\n",
    "while box._points.shape[0]:\n",
    "    box.find_convex()\n",
    "    box.collect_convex()\n",
    "    box.drop_convex()\n",
    "\n",
    "box.collect_convex(show=True)\n",
    "\n"
   ]
  },
  {
   "cell_type": "code",
   "execution_count": 80,
   "metadata": {
    "colab": {
     "base_uri": "https://localhost:8080/",
     "height": 204
    },
    "id": "R2wo4_afytMu",
    "outputId": "9f5d719b-e47d-4c96-f850-8b6b64ab32ae"
   },
   "outputs": [
    {
     "name": "stdout",
     "output_type": "stream",
     "text": [
      "           x         y\n",
      "0   0.573072  0.944311\n",
      "1   0.647264  0.478241\n",
      "2   0.319401  0.627330\n",
      "3   0.974360  0.612615\n",
      "4   0.925109  0.105896\n",
      "..       ...       ...\n",
      "95  0.402359  0.428630\n",
      "96  0.128361  0.734022\n",
      "97  0.373105  0.536322\n",
      "98  0.688530  0.675673\n",
      "99  0.244402  0.222848\n",
      "\n",
      "[91 rows x 2 columns]\n"
     ]
    }
   ],
   "source": []
  }
 ],
 "metadata": {
  "colab": {
   "collapsed_sections": [],
   "name": "convex_shell.ipynb",
   "provenance": []
  },
  "kernelspec": {
   "display_name": "Python 3 (ipykernel)",
   "language": "python",
   "name": "python3"
  },
  "language_info": {
   "codemirror_mode": {
    "name": "ipython",
    "version": 3
   },
   "file_extension": ".py",
   "mimetype": "text/x-python",
   "name": "python",
   "nbconvert_exporter": "python",
   "pygments_lexer": "ipython3",
   "version": "3.8.10"
  }
 },
 "nbformat": 4,
 "nbformat_minor": 1
}
